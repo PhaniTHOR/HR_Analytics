{
 "cells": [
  {
   "cell_type": "markdown",
   "id": "54daf17d",
   "metadata": {},
   "source": [
    "# Prediction of Promotion in HR Dataset Using Classfication"
   ]
  },
  {
   "cell_type": "markdown",
   "id": "8c2b8875",
   "metadata": {},
   "source": [
    "## Problem Statement\n",
    "\n",
    "Your client is a large MNC and they have 9 broad verticals across the organisation. One of the problem your client is facing is around identifying the right people for promotion (only for manager position and below) and prepare them in time. Currently the process, they are following is:\n",
    "\n",
    "    1. They first identify a set of employees based on recommendations/ past performance.\n",
    "    \n",
    "    2. Selected employees go through the separate training and evaluation program for each vertical. These programs are based on the required skill of each vertical.\n",
    "    \n",
    "    3. At the end of the program, based on various factors such as training performance, KPI completion (only employees with KPIs completed greater than 60% are considered) etc., employee gets promotion\n",
    "    \n",
    "For above mentioned process, the final promotions are only announced after the evaluation and this leads to delay in transition to their new roles. Hence, company needs your help in identifying the eligible candidates at a particular checkpoint so that they can expedite the entire promotion cycle.\n",
    "\n",
    "\n",
    "## Aim of the dataset.\n",
    "\n",
    "They have provided multiple attributes around Employee's past and current performance along with demographics. Now, The task is to predict whether a potential promotee at checkpoint in the test set will be promoted or not after the evaluation process."
   ]
  },
  {
   "cell_type": "markdown",
   "id": "99ff4cab",
   "metadata": {},
   "source": [
    "## Dataset Description\n",
    "\n",
    "We have train (54808) and test (23490) data set, train data set has both input and output variable(s). You need to predict the sales for test data set.\n",
    "\n",
    "|Variable|Definition|\n",
    "|:-------:|:--------|\n",
    "|employee_id|\tUnique ID for employee|\n",
    "|department|\tDepartment of employee|\n",
    "|region|\tRegion of employment (unordered)|\n",
    "|education|\tEducation Level|\n",
    "|gender|\tGender of Employee|\n",
    "|recruitment_channel|\tChannel of recruitment for employee|\n",
    "|no_of_trainings|\tno of other trainings completed in previous year on soft skills, technical skills etc.|\n",
    "|age|\tAge of Employee|\n",
    "|previous_year_rating|\tEmployee Rating for the previous year|\n",
    "|length_of_service|\tLength of service in years|\n",
    "|KPIs_met >80%|\tif Percent of KPIs(Key performance Indicators) >80% then 1 else 0|\n",
    "|awards_won?|\tif awards won during previous year then 1 else 0|\n",
    "|avg_training_score|\tAverage score in current training evaluations|\n",
    "|is_promoted|\t(Target) Recommended for promotion|\n",
    "\n"
   ]
  },
  {
   "cell_type": "code",
   "execution_count": 1,
   "id": "109bf598",
   "metadata": {},
   "outputs": [],
   "source": [
    "#importing the libraries needed for analysis of the dataset.\n",
    "\n",
    "import pandas as pd\n",
    "import numpy as np\n",
    "import seaborn as sns\n",
    "import matplotlib.pyplot as plt\n",
    "import io\n",
    "import os"
   ]
  },
  {
   "cell_type": "code",
   "execution_count": 2,
   "id": "5fb5b590",
   "metadata": {},
   "outputs": [
    {
     "name": "stdout",
     "output_type": "stream",
     "text": [
      "C:\\Users\\Thor_after_infinity\\Desktop\\ML Datasets\\HR analytics\n"
     ]
    }
   ],
   "source": [
    "%cd \"C:\\Users\\Thor_after_infinity\\Desktop\\ML Datasets\\HR analytics\""
   ]
  },
  {
   "cell_type": "code",
   "execution_count": 3,
   "id": "6fe059b0",
   "metadata": {},
   "outputs": [],
   "source": [
    "trainhr=pd.read_csv('train_LZdllcl.csv')# importing train file\n",
    "testhr=pd.read_csv('test_2umaH9m.csv')# importing test file"
   ]
  },
  {
   "cell_type": "markdown",
   "id": "eb842be8",
   "metadata": {},
   "source": [
    "    -> Train file is complete data including dependent variable(y)\n",
    "\n",
    "    -> Test file will not have dependent variable(y) which needs to be predicted using model built on train data sample     submission file is where predictions are copied for uploading into competition site for checking the result and accuracy"
   ]
  },
  {
   "cell_type": "markdown",
   "id": "cb98539c",
   "metadata": {},
   "source": [
    "## Data Preprocessing & Exploratory Data Analysis"
   ]
  },
  {
   "cell_type": "code",
   "execution_count": 4,
   "id": "24e5d1d1",
   "metadata": {},
   "outputs": [
    {
     "name": "stdout",
     "output_type": "stream",
     "text": [
      "(54808, 14)\n",
      "(23490, 13)\n"
     ]
    }
   ],
   "source": [
    "print(trainhr.shape)#size of the train file\n",
    "print(testhr.shape)#size of the test file"
   ]
  },
  {
   "cell_type": "code",
   "execution_count": 5,
   "id": "d0f1b729",
   "metadata": {},
   "outputs": [
    {
     "data": {
      "text/html": [
       "<div>\n",
       "<style scoped>\n",
       "    .dataframe tbody tr th:only-of-type {\n",
       "        vertical-align: middle;\n",
       "    }\n",
       "\n",
       "    .dataframe tbody tr th {\n",
       "        vertical-align: top;\n",
       "    }\n",
       "\n",
       "    .dataframe thead th {\n",
       "        text-align: right;\n",
       "    }\n",
       "</style>\n",
       "<table border=\"1\" class=\"dataframe\">\n",
       "  <thead>\n",
       "    <tr style=\"text-align: right;\">\n",
       "      <th></th>\n",
       "      <th>employee_id</th>\n",
       "      <th>department</th>\n",
       "      <th>region</th>\n",
       "      <th>education</th>\n",
       "      <th>gender</th>\n",
       "      <th>recruitment_channel</th>\n",
       "      <th>no_of_trainings</th>\n",
       "      <th>age</th>\n",
       "      <th>previous_year_rating</th>\n",
       "      <th>length_of_service</th>\n",
       "      <th>KPIs_met &gt;80%</th>\n",
       "      <th>awards_won?</th>\n",
       "      <th>avg_training_score</th>\n",
       "      <th>is_promoted</th>\n",
       "    </tr>\n",
       "  </thead>\n",
       "  <tbody>\n",
       "    <tr>\n",
       "      <th>0</th>\n",
       "      <td>65438</td>\n",
       "      <td>Sales &amp; Marketing</td>\n",
       "      <td>region_7</td>\n",
       "      <td>Master's &amp; above</td>\n",
       "      <td>f</td>\n",
       "      <td>sourcing</td>\n",
       "      <td>1</td>\n",
       "      <td>35</td>\n",
       "      <td>5.0</td>\n",
       "      <td>8</td>\n",
       "      <td>1</td>\n",
       "      <td>0</td>\n",
       "      <td>49</td>\n",
       "      <td>0</td>\n",
       "    </tr>\n",
       "    <tr>\n",
       "      <th>1</th>\n",
       "      <td>65141</td>\n",
       "      <td>Operations</td>\n",
       "      <td>region_22</td>\n",
       "      <td>Bachelor's</td>\n",
       "      <td>m</td>\n",
       "      <td>other</td>\n",
       "      <td>1</td>\n",
       "      <td>30</td>\n",
       "      <td>5.0</td>\n",
       "      <td>4</td>\n",
       "      <td>0</td>\n",
       "      <td>0</td>\n",
       "      <td>60</td>\n",
       "      <td>0</td>\n",
       "    </tr>\n",
       "    <tr>\n",
       "      <th>2</th>\n",
       "      <td>7513</td>\n",
       "      <td>Sales &amp; Marketing</td>\n",
       "      <td>region_19</td>\n",
       "      <td>Bachelor's</td>\n",
       "      <td>m</td>\n",
       "      <td>sourcing</td>\n",
       "      <td>1</td>\n",
       "      <td>34</td>\n",
       "      <td>3.0</td>\n",
       "      <td>7</td>\n",
       "      <td>0</td>\n",
       "      <td>0</td>\n",
       "      <td>50</td>\n",
       "      <td>0</td>\n",
       "    </tr>\n",
       "    <tr>\n",
       "      <th>3</th>\n",
       "      <td>2542</td>\n",
       "      <td>Sales &amp; Marketing</td>\n",
       "      <td>region_23</td>\n",
       "      <td>Bachelor's</td>\n",
       "      <td>m</td>\n",
       "      <td>other</td>\n",
       "      <td>2</td>\n",
       "      <td>39</td>\n",
       "      <td>1.0</td>\n",
       "      <td>10</td>\n",
       "      <td>0</td>\n",
       "      <td>0</td>\n",
       "      <td>50</td>\n",
       "      <td>0</td>\n",
       "    </tr>\n",
       "    <tr>\n",
       "      <th>4</th>\n",
       "      <td>48945</td>\n",
       "      <td>Technology</td>\n",
       "      <td>region_26</td>\n",
       "      <td>Bachelor's</td>\n",
       "      <td>m</td>\n",
       "      <td>other</td>\n",
       "      <td>1</td>\n",
       "      <td>45</td>\n",
       "      <td>3.0</td>\n",
       "      <td>2</td>\n",
       "      <td>0</td>\n",
       "      <td>0</td>\n",
       "      <td>73</td>\n",
       "      <td>0</td>\n",
       "    </tr>\n",
       "  </tbody>\n",
       "</table>\n",
       "</div>"
      ],
      "text/plain": [
       "   employee_id         department     region         education gender  \\\n",
       "0        65438  Sales & Marketing   region_7  Master's & above      f   \n",
       "1        65141         Operations  region_22        Bachelor's      m   \n",
       "2         7513  Sales & Marketing  region_19        Bachelor's      m   \n",
       "3         2542  Sales & Marketing  region_23        Bachelor's      m   \n",
       "4        48945         Technology  region_26        Bachelor's      m   \n",
       "\n",
       "  recruitment_channel  no_of_trainings  age  previous_year_rating  \\\n",
       "0            sourcing                1   35                   5.0   \n",
       "1               other                1   30                   5.0   \n",
       "2            sourcing                1   34                   3.0   \n",
       "3               other                2   39                   1.0   \n",
       "4               other                1   45                   3.0   \n",
       "\n",
       "   length_of_service  KPIs_met >80%  awards_won?  avg_training_score  \\\n",
       "0                  8              1            0                  49   \n",
       "1                  4              0            0                  60   \n",
       "2                  7              0            0                  50   \n",
       "3                 10              0            0                  50   \n",
       "4                  2              0            0                  73   \n",
       "\n",
       "   is_promoted  \n",
       "0            0  \n",
       "1            0  \n",
       "2            0  \n",
       "3            0  \n",
       "4            0  "
      ]
     },
     "execution_count": 5,
     "metadata": {},
     "output_type": "execute_result"
    }
   ],
   "source": [
    "trainhr.head()"
   ]
  },
  {
   "cell_type": "code",
   "execution_count": 6,
   "id": "fb13242c",
   "metadata": {},
   "outputs": [
    {
     "data": {
      "text/html": [
       "<div>\n",
       "<style scoped>\n",
       "    .dataframe tbody tr th:only-of-type {\n",
       "        vertical-align: middle;\n",
       "    }\n",
       "\n",
       "    .dataframe tbody tr th {\n",
       "        vertical-align: top;\n",
       "    }\n",
       "\n",
       "    .dataframe thead th {\n",
       "        text-align: right;\n",
       "    }\n",
       "</style>\n",
       "<table border=\"1\" class=\"dataframe\">\n",
       "  <thead>\n",
       "    <tr style=\"text-align: right;\">\n",
       "      <th></th>\n",
       "      <th>employee_id</th>\n",
       "      <th>department</th>\n",
       "      <th>region</th>\n",
       "      <th>education</th>\n",
       "      <th>gender</th>\n",
       "      <th>recruitment_channel</th>\n",
       "      <th>no_of_trainings</th>\n",
       "      <th>age</th>\n",
       "      <th>previous_year_rating</th>\n",
       "      <th>length_of_service</th>\n",
       "      <th>KPIs_met &gt;80%</th>\n",
       "      <th>awards_won?</th>\n",
       "      <th>avg_training_score</th>\n",
       "    </tr>\n",
       "  </thead>\n",
       "  <tbody>\n",
       "    <tr>\n",
       "      <th>0</th>\n",
       "      <td>8724</td>\n",
       "      <td>Technology</td>\n",
       "      <td>region_26</td>\n",
       "      <td>Bachelor's</td>\n",
       "      <td>m</td>\n",
       "      <td>sourcing</td>\n",
       "      <td>1</td>\n",
       "      <td>24</td>\n",
       "      <td>NaN</td>\n",
       "      <td>1</td>\n",
       "      <td>1</td>\n",
       "      <td>0</td>\n",
       "      <td>77</td>\n",
       "    </tr>\n",
       "    <tr>\n",
       "      <th>1</th>\n",
       "      <td>74430</td>\n",
       "      <td>HR</td>\n",
       "      <td>region_4</td>\n",
       "      <td>Bachelor's</td>\n",
       "      <td>f</td>\n",
       "      <td>other</td>\n",
       "      <td>1</td>\n",
       "      <td>31</td>\n",
       "      <td>3.0</td>\n",
       "      <td>5</td>\n",
       "      <td>0</td>\n",
       "      <td>0</td>\n",
       "      <td>51</td>\n",
       "    </tr>\n",
       "    <tr>\n",
       "      <th>2</th>\n",
       "      <td>72255</td>\n",
       "      <td>Sales &amp; Marketing</td>\n",
       "      <td>region_13</td>\n",
       "      <td>Bachelor's</td>\n",
       "      <td>m</td>\n",
       "      <td>other</td>\n",
       "      <td>1</td>\n",
       "      <td>31</td>\n",
       "      <td>1.0</td>\n",
       "      <td>4</td>\n",
       "      <td>0</td>\n",
       "      <td>0</td>\n",
       "      <td>47</td>\n",
       "    </tr>\n",
       "    <tr>\n",
       "      <th>3</th>\n",
       "      <td>38562</td>\n",
       "      <td>Procurement</td>\n",
       "      <td>region_2</td>\n",
       "      <td>Bachelor's</td>\n",
       "      <td>f</td>\n",
       "      <td>other</td>\n",
       "      <td>3</td>\n",
       "      <td>31</td>\n",
       "      <td>2.0</td>\n",
       "      <td>9</td>\n",
       "      <td>0</td>\n",
       "      <td>0</td>\n",
       "      <td>65</td>\n",
       "    </tr>\n",
       "    <tr>\n",
       "      <th>4</th>\n",
       "      <td>64486</td>\n",
       "      <td>Finance</td>\n",
       "      <td>region_29</td>\n",
       "      <td>Bachelor's</td>\n",
       "      <td>m</td>\n",
       "      <td>sourcing</td>\n",
       "      <td>1</td>\n",
       "      <td>30</td>\n",
       "      <td>4.0</td>\n",
       "      <td>7</td>\n",
       "      <td>0</td>\n",
       "      <td>0</td>\n",
       "      <td>61</td>\n",
       "    </tr>\n",
       "  </tbody>\n",
       "</table>\n",
       "</div>"
      ],
      "text/plain": [
       "   employee_id         department     region   education gender  \\\n",
       "0         8724         Technology  region_26  Bachelor's      m   \n",
       "1        74430                 HR   region_4  Bachelor's      f   \n",
       "2        72255  Sales & Marketing  region_13  Bachelor's      m   \n",
       "3        38562        Procurement   region_2  Bachelor's      f   \n",
       "4        64486            Finance  region_29  Bachelor's      m   \n",
       "\n",
       "  recruitment_channel  no_of_trainings  age  previous_year_rating  \\\n",
       "0            sourcing                1   24                   NaN   \n",
       "1               other                1   31                   3.0   \n",
       "2               other                1   31                   1.0   \n",
       "3               other                3   31                   2.0   \n",
       "4            sourcing                1   30                   4.0   \n",
       "\n",
       "   length_of_service  KPIs_met >80%  awards_won?  avg_training_score  \n",
       "0                  1              1            0                  77  \n",
       "1                  5              0            0                  51  \n",
       "2                  4              0            0                  47  \n",
       "3                  9              0            0                  65  \n",
       "4                  7              0            0                  61  "
      ]
     },
     "execution_count": 6,
     "metadata": {},
     "output_type": "execute_result"
    }
   ],
   "source": [
    "testhr.head()"
   ]
  },
  {
   "cell_type": "code",
   "execution_count": 7,
   "id": "0839b1d6",
   "metadata": {},
   "outputs": [
    {
     "name": "stdout",
     "output_type": "stream",
     "text": [
      "<class 'pandas.core.frame.DataFrame'>\n",
      "RangeIndex: 54808 entries, 0 to 54807\n",
      "Data columns (total 14 columns):\n",
      " #   Column                Non-Null Count  Dtype  \n",
      "---  ------                --------------  -----  \n",
      " 0   employee_id           54808 non-null  int64  \n",
      " 1   department            54808 non-null  object \n",
      " 2   region                54808 non-null  object \n",
      " 3   education             52399 non-null  object \n",
      " 4   gender                54808 non-null  object \n",
      " 5   recruitment_channel   54808 non-null  object \n",
      " 6   no_of_trainings       54808 non-null  int64  \n",
      " 7   age                   54808 non-null  int64  \n",
      " 8   previous_year_rating  50684 non-null  float64\n",
      " 9   length_of_service     54808 non-null  int64  \n",
      " 10  KPIs_met >80%         54808 non-null  int64  \n",
      " 11  awards_won?           54808 non-null  int64  \n",
      " 12  avg_training_score    54808 non-null  int64  \n",
      " 13  is_promoted           54808 non-null  int64  \n",
      "dtypes: float64(1), int64(8), object(5)\n",
      "memory usage: 5.9+ MB\n"
     ]
    }
   ],
   "source": [
    "trainhr.info()"
   ]
  },
  {
   "cell_type": "code",
   "execution_count": 8,
   "id": "cff6d013",
   "metadata": {},
   "outputs": [
    {
     "name": "stdout",
     "output_type": "stream",
     "text": [
      "<class 'pandas.core.frame.DataFrame'>\n",
      "RangeIndex: 23490 entries, 0 to 23489\n",
      "Data columns (total 13 columns):\n",
      " #   Column                Non-Null Count  Dtype  \n",
      "---  ------                --------------  -----  \n",
      " 0   employee_id           23490 non-null  int64  \n",
      " 1   department            23490 non-null  object \n",
      " 2   region                23490 non-null  object \n",
      " 3   education             22456 non-null  object \n",
      " 4   gender                23490 non-null  object \n",
      " 5   recruitment_channel   23490 non-null  object \n",
      " 6   no_of_trainings       23490 non-null  int64  \n",
      " 7   age                   23490 non-null  int64  \n",
      " 8   previous_year_rating  21678 non-null  float64\n",
      " 9   length_of_service     23490 non-null  int64  \n",
      " 10  KPIs_met >80%         23490 non-null  int64  \n",
      " 11  awards_won?           23490 non-null  int64  \n",
      " 12  avg_training_score    23490 non-null  int64  \n",
      "dtypes: float64(1), int64(7), object(5)\n",
      "memory usage: 2.3+ MB\n"
     ]
    }
   ],
   "source": [
    "testhr.info()"
   ]
  },
  {
   "cell_type": "code",
   "execution_count": 9,
   "id": "cca6c6c4",
   "metadata": {},
   "outputs": [
    {
     "data": {
      "text/plain": [
       "employee_id                0\n",
       "department                 0\n",
       "region                     0\n",
       "education               2409\n",
       "gender                     0\n",
       "recruitment_channel        0\n",
       "no_of_trainings            0\n",
       "age                        0\n",
       "previous_year_rating    4124\n",
       "length_of_service          0\n",
       "KPIs_met >80%              0\n",
       "awards_won?                0\n",
       "avg_training_score         0\n",
       "is_promoted                0\n",
       "dtype: int64"
      ]
     },
     "execution_count": 9,
     "metadata": {},
     "output_type": "execute_result"
    }
   ],
   "source": [
    "trainhr.isnull().sum()#chechking for missing values"
   ]
  },
  {
   "cell_type": "code",
   "execution_count": 10,
   "id": "a467c078",
   "metadata": {},
   "outputs": [
    {
     "data": {
      "text/plain": [
       "employee_id                0\n",
       "department                 0\n",
       "region                     0\n",
       "education               1034\n",
       "gender                     0\n",
       "recruitment_channel        0\n",
       "no_of_trainings            0\n",
       "age                        0\n",
       "previous_year_rating    1812\n",
       "length_of_service          0\n",
       "KPIs_met >80%              0\n",
       "awards_won?                0\n",
       "avg_training_score         0\n",
       "dtype: int64"
      ]
     },
     "execution_count": 10,
     "metadata": {},
     "output_type": "execute_result"
    }
   ],
   "source": [
    "testhr.isnull().sum()#chechking for missing values"
   ]
  },
  {
   "cell_type": "markdown",
   "id": "f33927c0",
   "metadata": {},
   "source": [
    "### Imputing the missing values for train dataset."
   ]
  },
  {
   "cell_type": "markdown",
   "id": "226f0ffc",
   "metadata": {},
   "source": [
    "    -> The train and test dataset have some missing values that need to be filled.\n",
    "\n",
    "    -> We will concatenate the test and train dataframes for data preprocessing, which requires the same number and order of variables in both dataframes.\n",
    "\n",
    "    -> Therefore, we will temporarily add a dependent variable to the test data for preprocessing purposes."
   ]
  },
  {
   "cell_type": "code",
   "execution_count": 11,
   "id": "ac9e0ff5",
   "metadata": {},
   "outputs": [],
   "source": [
    "testhr['is_promoted']='test'"
   ]
  },
  {
   "cell_type": "code",
   "execution_count": 12,
   "id": "9546a28a",
   "metadata": {},
   "outputs": [],
   "source": [
    "# Combine Both Dataframes for preprocessing\n",
    "# For Concatenation of 2 dataframes the number of variables and squence of variables must be same.\n",
    "combinedf=pd.concat([trainhr,testhr],axis=0)\n",
    "# axis=0 is Row wise Concatenation\n",
    "# axis=1 is Column wise Concatenation"
   ]
  },
  {
   "cell_type": "code",
   "execution_count": 13,
   "id": "287fb4b7",
   "metadata": {},
   "outputs": [
    {
     "data": {
      "text/plain": [
       "education\n",
       "Bachelor's          52247\n",
       "Master's & above    21429\n",
       "NaN                  3443\n",
       "Below Secondary      1179\n",
       "Name: count, dtype: int64"
      ]
     },
     "execution_count": 13,
     "metadata": {},
     "output_type": "execute_result"
    }
   ],
   "source": [
    "combinedf.education.value_counts(dropna=False)"
   ]
  },
  {
   "cell_type": "code",
   "execution_count": 14,
   "id": "4a2c0480",
   "metadata": {},
   "outputs": [
    {
     "data": {
      "text/plain": [
       "0    Bachelor's\n",
       "Name: education, dtype: object"
      ]
     },
     "execution_count": 14,
     "metadata": {},
     "output_type": "execute_result"
    }
   ],
   "source": [
    "combinedf.education.mode()"
   ]
  },
  {
   "cell_type": "code",
   "execution_count": 15,
   "id": "412fab4f",
   "metadata": {},
   "outputs": [],
   "source": [
    "combinedf.education=combinedf.education.fillna(\"Bachelor's\")\n",
    "#imputing the variable with Bachelor's, as the Bachelor's is most frequent in variable."
   ]
  },
  {
   "cell_type": "code",
   "execution_count": 16,
   "id": "5cd8c617",
   "metadata": {},
   "outputs": [
    {
     "data": {
      "text/plain": [
       "education\n",
       "Bachelor's          55690\n",
       "Master's & above    21429\n",
       "Below Secondary      1179\n",
       "Name: count, dtype: int64"
      ]
     },
     "execution_count": 16,
     "metadata": {},
     "output_type": "execute_result"
    }
   ],
   "source": [
    "combinedf.education.value_counts()"
   ]
  },
  {
   "cell_type": "code",
   "execution_count": 17,
   "id": "0a58ffbf",
   "metadata": {},
   "outputs": [
    {
     "data": {
      "text/plain": [
       "previous_year_rating\n",
       "3.0    26539\n",
       "5.0    16838\n",
       "4.0    14126\n",
       "1.0     8903\n",
       "2.0     5956\n",
       "NaN     5936\n",
       "Name: count, dtype: int64"
      ]
     },
     "execution_count": 17,
     "metadata": {},
     "output_type": "execute_result"
    }
   ],
   "source": [
    "combinedf.previous_year_rating.value_counts(dropna=False)"
   ]
  },
  {
   "cell_type": "code",
   "execution_count": 18,
   "id": "929d264e",
   "metadata": {},
   "outputs": [],
   "source": [
    "combinedf.previous_year_rating=combinedf.previous_year_rating.fillna(3.0)\n",
    "#imputing the variable with Bachelor's, as the 3.0 is most frequent in variable. And it is a categorical variable."
   ]
  },
  {
   "cell_type": "code",
   "execution_count": 19,
   "id": "84ba6ae6",
   "metadata": {},
   "outputs": [
    {
     "data": {
      "text/plain": [
       "previous_year_rating\n",
       "3.0    32475\n",
       "5.0    16838\n",
       "4.0    14126\n",
       "1.0     8903\n",
       "2.0     5956\n",
       "Name: count, dtype: int64"
      ]
     },
     "execution_count": 19,
     "metadata": {},
     "output_type": "execute_result"
    }
   ],
   "source": [
    "combinedf.previous_year_rating.value_counts(dropna=False)"
   ]
  },
  {
   "cell_type": "code",
   "execution_count": 20,
   "id": "df81a605",
   "metadata": {},
   "outputs": [],
   "source": [
    "#combinedf[combinedf['length_of_service']>8]"
   ]
  },
  {
   "cell_type": "code",
   "execution_count": 21,
   "id": "1169cd21",
   "metadata": {},
   "outputs": [],
   "source": [
    "#combinedf=combinedf.drop(8)"
   ]
  },
  {
   "cell_type": "markdown",
   "id": "39863c39",
   "metadata": {},
   "source": [
    "### Spliting data into numeric cols and object cols\n",
    "\n",
    "We are spliting the data into numeric columns and object columns, to scale the data for numeric columns and imputing the dummies in object such each every data can be in 0's and 1's for building the Machine Learning models."
   ]
  },
  {
   "cell_type": "code",
   "execution_count": 22,
   "id": "27c159d0",
   "metadata": {},
   "outputs": [],
   "source": [
    "# as 'no_of_trainings','previous_year_rating','KPIs_met >80%', 'awards_won? adding them to objcols. and droping the \n",
    "#employee_id as it is a unique identifier and we dont require it.\n",
    "\n",
    "combinedf.no_of_trainings=combinedf.no_of_trainings.astype('object')\n",
    "combinedf.previous_year_rating=combinedf.previous_year_rating.astype('object')\n",
    "combinedf['KPIs_met >80%']=combinedf['KPIs_met >80%'].astype('object')\n",
    "combinedf['awards_won?']=combinedf['awards_won?'].astype('object')\n",
    "combinedf=combinedf.drop('employee_id',axis=1)"
   ]
  },
  {
   "cell_type": "code",
   "execution_count": 23,
   "id": "874c6643",
   "metadata": {},
   "outputs": [],
   "source": [
    "numcols=combinedf.select_dtypes(include=np.number)\n",
    "objcols=combinedf.select_dtypes(include=['object'])"
   ]
  },
  {
   "cell_type": "code",
   "execution_count": 24,
   "id": "ae57e2ab",
   "metadata": {},
   "outputs": [
    {
     "data": {
      "text/html": [
       "<div>\n",
       "<style scoped>\n",
       "    .dataframe tbody tr th:only-of-type {\n",
       "        vertical-align: middle;\n",
       "    }\n",
       "\n",
       "    .dataframe tbody tr th {\n",
       "        vertical-align: top;\n",
       "    }\n",
       "\n",
       "    .dataframe thead th {\n",
       "        text-align: right;\n",
       "    }\n",
       "</style>\n",
       "<table border=\"1\" class=\"dataframe\">\n",
       "  <thead>\n",
       "    <tr style=\"text-align: right;\">\n",
       "      <th></th>\n",
       "      <th>age</th>\n",
       "      <th>length_of_service</th>\n",
       "      <th>avg_training_score</th>\n",
       "    </tr>\n",
       "  </thead>\n",
       "  <tbody>\n",
       "    <tr>\n",
       "      <th>0</th>\n",
       "      <td>35</td>\n",
       "      <td>8</td>\n",
       "      <td>49</td>\n",
       "    </tr>\n",
       "    <tr>\n",
       "      <th>1</th>\n",
       "      <td>30</td>\n",
       "      <td>4</td>\n",
       "      <td>60</td>\n",
       "    </tr>\n",
       "    <tr>\n",
       "      <th>2</th>\n",
       "      <td>34</td>\n",
       "      <td>7</td>\n",
       "      <td>50</td>\n",
       "    </tr>\n",
       "    <tr>\n",
       "      <th>3</th>\n",
       "      <td>39</td>\n",
       "      <td>10</td>\n",
       "      <td>50</td>\n",
       "    </tr>\n",
       "    <tr>\n",
       "      <th>4</th>\n",
       "      <td>45</td>\n",
       "      <td>2</td>\n",
       "      <td>73</td>\n",
       "    </tr>\n",
       "  </tbody>\n",
       "</table>\n",
       "</div>"
      ],
      "text/plain": [
       "   age  length_of_service  avg_training_score\n",
       "0   35                  8                  49\n",
       "1   30                  4                  60\n",
       "2   34                  7                  50\n",
       "3   39                 10                  50\n",
       "4   45                  2                  73"
      ]
     },
     "execution_count": 24,
     "metadata": {},
     "output_type": "execute_result"
    }
   ],
   "source": [
    "numcols.head()"
   ]
  },
  {
   "cell_type": "code",
   "execution_count": 25,
   "id": "cca00440",
   "metadata": {},
   "outputs": [
    {
     "data": {
      "text/html": [
       "<div>\n",
       "<style scoped>\n",
       "    .dataframe tbody tr th:only-of-type {\n",
       "        vertical-align: middle;\n",
       "    }\n",
       "\n",
       "    .dataframe tbody tr th {\n",
       "        vertical-align: top;\n",
       "    }\n",
       "\n",
       "    .dataframe thead th {\n",
       "        text-align: right;\n",
       "    }\n",
       "</style>\n",
       "<table border=\"1\" class=\"dataframe\">\n",
       "  <thead>\n",
       "    <tr style=\"text-align: right;\">\n",
       "      <th></th>\n",
       "      <th>department</th>\n",
       "      <th>region</th>\n",
       "      <th>education</th>\n",
       "      <th>gender</th>\n",
       "      <th>recruitment_channel</th>\n",
       "      <th>no_of_trainings</th>\n",
       "      <th>previous_year_rating</th>\n",
       "      <th>KPIs_met &gt;80%</th>\n",
       "      <th>awards_won?</th>\n",
       "      <th>is_promoted</th>\n",
       "    </tr>\n",
       "  </thead>\n",
       "  <tbody>\n",
       "    <tr>\n",
       "      <th>0</th>\n",
       "      <td>Sales &amp; Marketing</td>\n",
       "      <td>region_7</td>\n",
       "      <td>Master's &amp; above</td>\n",
       "      <td>f</td>\n",
       "      <td>sourcing</td>\n",
       "      <td>1</td>\n",
       "      <td>5.0</td>\n",
       "      <td>1</td>\n",
       "      <td>0</td>\n",
       "      <td>0</td>\n",
       "    </tr>\n",
       "    <tr>\n",
       "      <th>1</th>\n",
       "      <td>Operations</td>\n",
       "      <td>region_22</td>\n",
       "      <td>Bachelor's</td>\n",
       "      <td>m</td>\n",
       "      <td>other</td>\n",
       "      <td>1</td>\n",
       "      <td>5.0</td>\n",
       "      <td>0</td>\n",
       "      <td>0</td>\n",
       "      <td>0</td>\n",
       "    </tr>\n",
       "    <tr>\n",
       "      <th>2</th>\n",
       "      <td>Sales &amp; Marketing</td>\n",
       "      <td>region_19</td>\n",
       "      <td>Bachelor's</td>\n",
       "      <td>m</td>\n",
       "      <td>sourcing</td>\n",
       "      <td>1</td>\n",
       "      <td>3.0</td>\n",
       "      <td>0</td>\n",
       "      <td>0</td>\n",
       "      <td>0</td>\n",
       "    </tr>\n",
       "    <tr>\n",
       "      <th>3</th>\n",
       "      <td>Sales &amp; Marketing</td>\n",
       "      <td>region_23</td>\n",
       "      <td>Bachelor's</td>\n",
       "      <td>m</td>\n",
       "      <td>other</td>\n",
       "      <td>2</td>\n",
       "      <td>1.0</td>\n",
       "      <td>0</td>\n",
       "      <td>0</td>\n",
       "      <td>0</td>\n",
       "    </tr>\n",
       "    <tr>\n",
       "      <th>4</th>\n",
       "      <td>Technology</td>\n",
       "      <td>region_26</td>\n",
       "      <td>Bachelor's</td>\n",
       "      <td>m</td>\n",
       "      <td>other</td>\n",
       "      <td>1</td>\n",
       "      <td>3.0</td>\n",
       "      <td>0</td>\n",
       "      <td>0</td>\n",
       "      <td>0</td>\n",
       "    </tr>\n",
       "  </tbody>\n",
       "</table>\n",
       "</div>"
      ],
      "text/plain": [
       "          department     region         education gender recruitment_channel  \\\n",
       "0  Sales & Marketing   region_7  Master's & above      f            sourcing   \n",
       "1         Operations  region_22        Bachelor's      m               other   \n",
       "2  Sales & Marketing  region_19        Bachelor's      m            sourcing   \n",
       "3  Sales & Marketing  region_23        Bachelor's      m               other   \n",
       "4         Technology  region_26        Bachelor's      m               other   \n",
       "\n",
       "  no_of_trainings previous_year_rating KPIs_met >80% awards_won? is_promoted  \n",
       "0               1                  5.0             1           0           0  \n",
       "1               1                  5.0             0           0           0  \n",
       "2               1                  3.0             0           0           0  \n",
       "3               2                  1.0             0           0           0  \n",
       "4               1                  3.0             0           0           0  "
      ]
     },
     "execution_count": 25,
     "metadata": {},
     "output_type": "execute_result"
    }
   ],
   "source": [
    "objcols.head()"
   ]
  },
  {
   "cell_type": "code",
   "execution_count": 26,
   "id": "12cda949",
   "metadata": {},
   "outputs": [
    {
     "data": {
      "text/plain": [
       "Index(['age', 'length_of_service', 'avg_training_score'], dtype='object')"
      ]
     },
     "execution_count": 26,
     "metadata": {},
     "output_type": "execute_result"
    }
   ],
   "source": [
    "numcols.columns"
   ]
  },
  {
   "cell_type": "markdown",
   "id": "87b3239f",
   "metadata": {},
   "source": [
    "### Scaling the numeric columns"
   ]
  },
  {
   "cell_type": "code",
   "execution_count": 27,
   "id": "c43becfd",
   "metadata": {},
   "outputs": [],
   "source": [
    "#standard scaler\n",
    "from sklearn.preprocessing import StandardScaler"
   ]
  },
  {
   "cell_type": "code",
   "execution_count": 28,
   "id": "c20f87ba",
   "metadata": {},
   "outputs": [],
   "source": [
    "scaler=StandardScaler()"
   ]
  },
  {
   "cell_type": "code",
   "execution_count": 29,
   "id": "fc3a7bb4",
   "metadata": {},
   "outputs": [],
   "source": [
    "numcols_scaled=scaler.fit_transform(numcols)"
   ]
  },
  {
   "cell_type": "code",
   "execution_count": 30,
   "id": "413bf0e0",
   "metadata": {},
   "outputs": [],
   "source": [
    "numcols_scaled=pd.DataFrame(numcols_scaled,columns=numcols.columns)"
   ]
  },
  {
   "cell_type": "code",
   "execution_count": 31,
   "id": "027bf394",
   "metadata": {},
   "outputs": [
    {
     "data": {
      "text/html": [
       "<div>\n",
       "<style scoped>\n",
       "    .dataframe tbody tr th:only-of-type {\n",
       "        vertical-align: middle;\n",
       "    }\n",
       "\n",
       "    .dataframe tbody tr th {\n",
       "        vertical-align: top;\n",
       "    }\n",
       "\n",
       "    .dataframe thead th {\n",
       "        text-align: right;\n",
       "    }\n",
       "</style>\n",
       "<table border=\"1\" class=\"dataframe\">\n",
       "  <thead>\n",
       "    <tr style=\"text-align: right;\">\n",
       "      <th></th>\n",
       "      <th>age</th>\n",
       "      <th>length_of_service</th>\n",
       "      <th>avg_training_score</th>\n",
       "    </tr>\n",
       "  </thead>\n",
       "  <tbody>\n",
       "    <tr>\n",
       "      <th>0</th>\n",
       "      <td>0.026400</td>\n",
       "      <td>0.506357</td>\n",
       "      <td>-1.072184</td>\n",
       "    </tr>\n",
       "    <tr>\n",
       "      <th>1</th>\n",
       "      <td>-0.625841</td>\n",
       "      <td>-0.435253</td>\n",
       "      <td>-0.250282</td>\n",
       "    </tr>\n",
       "    <tr>\n",
       "      <th>2</th>\n",
       "      <td>-0.104048</td>\n",
       "      <td>0.270954</td>\n",
       "      <td>-0.997466</td>\n",
       "    </tr>\n",
       "    <tr>\n",
       "      <th>3</th>\n",
       "      <td>0.548193</td>\n",
       "      <td>0.977162</td>\n",
       "      <td>-0.997466</td>\n",
       "    </tr>\n",
       "    <tr>\n",
       "      <th>4</th>\n",
       "      <td>1.330882</td>\n",
       "      <td>-0.906058</td>\n",
       "      <td>0.721058</td>\n",
       "    </tr>\n",
       "  </tbody>\n",
       "</table>\n",
       "</div>"
      ],
      "text/plain": [
       "        age  length_of_service  avg_training_score\n",
       "0  0.026400           0.506357           -1.072184\n",
       "1 -0.625841          -0.435253           -0.250282\n",
       "2 -0.104048           0.270954           -0.997466\n",
       "3  0.548193           0.977162           -0.997466\n",
       "4  1.330882          -0.906058            0.721058"
      ]
     },
     "execution_count": 31,
     "metadata": {},
     "output_type": "execute_result"
    }
   ],
   "source": [
    "numcols_scaled.head()"
   ]
  },
  {
   "cell_type": "code",
   "execution_count": 32,
   "id": "1a7e3689",
   "metadata": {},
   "outputs": [
    {
     "data": {
      "text/plain": [
       "<Axes: >"
      ]
     },
     "execution_count": 32,
     "metadata": {},
     "output_type": "execute_result"
    },
    {
     "data": {
      "image/png": "[encoded data removed]",
      "text/plain": [
       "<Figure size 640x480 with 1 Axes>"
      ]
     },
     "metadata": {},
     "output_type": "display_data"
    }
   ],
   "source": [
    "numcols_scaled.plot(kind='box')"
   ]
  },
  {
   "cell_type": "code",
   "execution_count": 33,
   "id": "39ffd1ff",
   "metadata": {},
   "outputs": [],
   "source": [
    "from sklearn.preprocessing import MinMaxScaler"
   ]
  },
  {
   "cell_type": "code",
   "execution_count": 34,
   "id": "81b3f879",
   "metadata": {},
   "outputs": [],
   "source": [
    "minmax=MinMaxScaler()"
   ]
  },
  {
   "cell_type": "code",
   "execution_count": 35,
   "id": "c0e018ff",
   "metadata": {},
   "outputs": [],
   "source": [
    "numcols_minmax=minmax.fit_transform(numcols)"
   ]
  },
  {
   "cell_type": "code",
   "execution_count": 36,
   "id": "d685371c",
   "metadata": {},
   "outputs": [],
   "source": [
    "numcols_minmax=pd.DataFrame(numcols_minmax,columns=numcols.columns)"
   ]
  },
  {
   "cell_type": "code",
   "execution_count": 37,
   "id": "7ed913cc",
   "metadata": {},
   "outputs": [
    {
     "data": {
      "text/html": [
       "<div>\n",
       "<style scoped>\n",
       "    .dataframe tbody tr th:only-of-type {\n",
       "        vertical-align: middle;\n",
       "    }\n",
       "\n",
       "    .dataframe tbody tr th {\n",
       "        vertical-align: top;\n",
       "    }\n",
       "\n",
       "    .dataframe thead th {\n",
       "        text-align: right;\n",
       "    }\n",
       "</style>\n",
       "<table border=\"1\" class=\"dataframe\">\n",
       "  <thead>\n",
       "    <tr style=\"text-align: right;\">\n",
       "      <th></th>\n",
       "      <th>age</th>\n",
       "      <th>length_of_service</th>\n",
       "      <th>avg_training_score</th>\n",
       "    </tr>\n",
       "  </thead>\n",
       "  <tbody>\n",
       "    <tr>\n",
       "      <th>0</th>\n",
       "      <td>0.375</td>\n",
       "      <td>0.194444</td>\n",
       "      <td>0.166667</td>\n",
       "    </tr>\n",
       "    <tr>\n",
       "      <th>1</th>\n",
       "      <td>0.250</td>\n",
       "      <td>0.083333</td>\n",
       "      <td>0.350000</td>\n",
       "    </tr>\n",
       "    <tr>\n",
       "      <th>2</th>\n",
       "      <td>0.350</td>\n",
       "      <td>0.166667</td>\n",
       "      <td>0.183333</td>\n",
       "    </tr>\n",
       "    <tr>\n",
       "      <th>3</th>\n",
       "      <td>0.475</td>\n",
       "      <td>0.250000</td>\n",
       "      <td>0.183333</td>\n",
       "    </tr>\n",
       "    <tr>\n",
       "      <th>4</th>\n",
       "      <td>0.625</td>\n",
       "      <td>0.027778</td>\n",
       "      <td>0.566667</td>\n",
       "    </tr>\n",
       "  </tbody>\n",
       "</table>\n",
       "</div>"
      ],
      "text/plain": [
       "     age  length_of_service  avg_training_score\n",
       "0  0.375           0.194444            0.166667\n",
       "1  0.250           0.083333            0.350000\n",
       "2  0.350           0.166667            0.183333\n",
       "3  0.475           0.250000            0.183333\n",
       "4  0.625           0.027778            0.566667"
      ]
     },
     "execution_count": 37,
     "metadata": {},
     "output_type": "execute_result"
    }
   ],
   "source": [
    "numcols_minmax.head()"
   ]
  },
  {
   "cell_type": "code",
   "execution_count": 38,
   "id": "ad9a6486",
   "metadata": {},
   "outputs": [
    {
     "data": {
      "text/plain": [
       "<Axes: >"
      ]
     },
     "execution_count": 38,
     "metadata": {},
     "output_type": "execute_result"
    },
    {
     "data": {
      "image/png": "[encoded data removed]",
      "text/plain": [
       "<Figure size 640x480 with 1 Axes>"
      ]
     },
     "metadata": {},
     "output_type": "display_data"
    }
   ],
   "source": [
    "numcols_minmax.plot(kind='box')"
   ]
  },
  {
   "cell_type": "code",
   "execution_count": 39,
   "id": "e345f285",
   "metadata": {},
   "outputs": [],
   "source": [
    "from sklearn.preprocessing import RobustScaler"
   ]
  },
  {
   "cell_type": "code",
   "execution_count": 40,
   "id": "00622de6",
   "metadata": {},
   "outputs": [],
   "source": [
    "robust=RobustScaler()"
   ]
  },
  {
   "cell_type": "code",
   "execution_count": 41,
   "id": "3d40339e",
   "metadata": {},
   "outputs": [],
   "source": [
    "numcols_robust=robust.fit_transform(numcols)"
   ]
  },
  {
   "cell_type": "code",
   "execution_count": 42,
   "id": "6f3da09d",
   "metadata": {},
   "outputs": [],
   "source": [
    "numcols_robust=pd.DataFrame(numcols_robust,columns=numcols.columns)"
   ]
  },
  {
   "cell_type": "code",
   "execution_count": 43,
   "id": "a687a483",
   "metadata": {},
   "outputs": [
    {
     "data": {
      "text/html": [
       "<div>\n",
       "<style scoped>\n",
       "    .dataframe tbody tr th:only-of-type {\n",
       "        vertical-align: middle;\n",
       "    }\n",
       "\n",
       "    .dataframe tbody tr th {\n",
       "        vertical-align: top;\n",
       "    }\n",
       "\n",
       "    .dataframe thead th {\n",
       "        text-align: right;\n",
       "    }\n",
       "</style>\n",
       "<table border=\"1\" class=\"dataframe\">\n",
       "  <thead>\n",
       "    <tr style=\"text-align: right;\">\n",
       "      <th></th>\n",
       "      <th>age</th>\n",
       "      <th>length_of_service</th>\n",
       "      <th>avg_training_score</th>\n",
       "    </tr>\n",
       "  </thead>\n",
       "  <tbody>\n",
       "    <tr>\n",
       "      <th>0</th>\n",
       "      <td>0.2</td>\n",
       "      <td>0.75</td>\n",
       "      <td>-0.44</td>\n",
       "    </tr>\n",
       "    <tr>\n",
       "      <th>1</th>\n",
       "      <td>-0.3</td>\n",
       "      <td>-0.25</td>\n",
       "      <td>0.00</td>\n",
       "    </tr>\n",
       "    <tr>\n",
       "      <th>2</th>\n",
       "      <td>0.1</td>\n",
       "      <td>0.50</td>\n",
       "      <td>-0.40</td>\n",
       "    </tr>\n",
       "    <tr>\n",
       "      <th>3</th>\n",
       "      <td>0.6</td>\n",
       "      <td>1.25</td>\n",
       "      <td>-0.40</td>\n",
       "    </tr>\n",
       "    <tr>\n",
       "      <th>4</th>\n",
       "      <td>1.2</td>\n",
       "      <td>-0.75</td>\n",
       "      <td>0.52</td>\n",
       "    </tr>\n",
       "  </tbody>\n",
       "</table>\n",
       "</div>"
      ],
      "text/plain": [
       "   age  length_of_service  avg_training_score\n",
       "0  0.2               0.75               -0.44\n",
       "1 -0.3              -0.25                0.00\n",
       "2  0.1               0.50               -0.40\n",
       "3  0.6               1.25               -0.40\n",
       "4  1.2              -0.75                0.52"
      ]
     },
     "execution_count": 43,
     "metadata": {},
     "output_type": "execute_result"
    }
   ],
   "source": [
    "numcols_robust.head()"
   ]
  },
  {
   "cell_type": "code",
   "execution_count": 44,
   "id": "674687b5",
   "metadata": {},
   "outputs": [
    {
     "data": {
      "text/plain": [
       "<Axes: >"
      ]
     },
     "execution_count": 44,
     "metadata": {},
     "output_type": "execute_result"
    },
    {
     "data": {
      "image/png": "[encoded data removed]",
      "text/plain": [
       "<Figure size 640x480 with 1 Axes>"
      ]
     },
     "metadata": {},
     "output_type": "display_data"
    }
   ],
   "source": [
    "numcols_robust.plot(kind='box')"
   ]
  },
  {
   "cell_type": "markdown",
   "id": "6c92c5c4",
   "metadata": {},
   "source": [
    "### Data Manipulation (dummy encoding of categorical variables.)"
   ]
  },
  {
   "cell_type": "code",
   "execution_count": 45,
   "id": "d73db946",
   "metadata": {},
   "outputs": [
    {
     "data": {
      "text/plain": [
       "Index(['department', 'region', 'education', 'gender', 'recruitment_channel',\n",
       "       'no_of_trainings', 'previous_year_rating', 'KPIs_met >80%',\n",
       "       'awards_won?', 'is_promoted'],\n",
       "      dtype='object')"
      ]
     },
     "execution_count": 45,
     "metadata": {},
     "output_type": "execute_result"
    }
   ],
   "source": [
    "objcols.columns"
   ]
  },
  {
   "cell_type": "code",
   "execution_count": 46,
   "id": "6b09e71d",
   "metadata": {},
   "outputs": [],
   "source": [
    "objcols_dummy=pd.get_dummies(objcols,columns=['department', 'region', 'education', 'gender', 'recruitment_channel',\n",
    "       'no_of_trainings', 'previous_year_rating', 'KPIs_met >80%', 'awards_won?'])"
   ]
  },
  {
   "cell_type": "code",
   "execution_count": 47,
   "id": "9c641d68",
   "metadata": {},
   "outputs": [
    {
     "data": {
      "text/html": [
       "<div>\n",
       "<style scoped>\n",
       "    .dataframe tbody tr th:only-of-type {\n",
       "        vertical-align: middle;\n",
       "    }\n",
       "\n",
       "    .dataframe tbody tr th {\n",
       "        vertical-align: top;\n",
       "    }\n",
       "\n",
       "    .dataframe thead th {\n",
       "        text-align: right;\n",
       "    }\n",
       "</style>\n",
       "<table border=\"1\" class=\"dataframe\">\n",
       "  <thead>\n",
       "    <tr style=\"text-align: right;\">\n",
       "      <th></th>\n",
       "      <th>is_promoted</th>\n",
       "      <th>department_Analytics</th>\n",
       "      <th>department_Finance</th>\n",
       "      <th>department_HR</th>\n",
       "      <th>department_Legal</th>\n",
       "      <th>department_Operations</th>\n",
       "      <th>department_Procurement</th>\n",
       "      <th>department_R&amp;D</th>\n",
       "      <th>department_Sales &amp; Marketing</th>\n",
       "      <th>department_Technology</th>\n",
       "      <th>...</th>\n",
       "      <th>no_of_trainings_10</th>\n",
       "      <th>previous_year_rating_1.0</th>\n",
       "      <th>previous_year_rating_2.0</th>\n",
       "      <th>previous_year_rating_3.0</th>\n",
       "      <th>previous_year_rating_4.0</th>\n",
       "      <th>previous_year_rating_5.0</th>\n",
       "      <th>KPIs_met &gt;80%_0</th>\n",
       "      <th>KPIs_met &gt;80%_1</th>\n",
       "      <th>awards_won?_0</th>\n",
       "      <th>awards_won?_1</th>\n",
       "    </tr>\n",
       "  </thead>\n",
       "  <tbody>\n",
       "    <tr>\n",
       "      <th>0</th>\n",
       "      <td>0</td>\n",
       "      <td>False</td>\n",
       "      <td>False</td>\n",
       "      <td>False</td>\n",
       "      <td>False</td>\n",
       "      <td>False</td>\n",
       "      <td>False</td>\n",
       "      <td>False</td>\n",
       "      <td>True</td>\n",
       "      <td>False</td>\n",
       "      <td>...</td>\n",
       "      <td>False</td>\n",
       "      <td>False</td>\n",
       "      <td>False</td>\n",
       "      <td>False</td>\n",
       "      <td>False</td>\n",
       "      <td>True</td>\n",
       "      <td>False</td>\n",
       "      <td>True</td>\n",
       "      <td>True</td>\n",
       "      <td>False</td>\n",
       "    </tr>\n",
       "    <tr>\n",
       "      <th>1</th>\n",
       "      <td>0</td>\n",
       "      <td>False</td>\n",
       "      <td>False</td>\n",
       "      <td>False</td>\n",
       "      <td>False</td>\n",
       "      <td>True</td>\n",
       "      <td>False</td>\n",
       "      <td>False</td>\n",
       "      <td>False</td>\n",
       "      <td>False</td>\n",
       "      <td>...</td>\n",
       "      <td>False</td>\n",
       "      <td>False</td>\n",
       "      <td>False</td>\n",
       "      <td>False</td>\n",
       "      <td>False</td>\n",
       "      <td>True</td>\n",
       "      <td>True</td>\n",
       "      <td>False</td>\n",
       "      <td>True</td>\n",
       "      <td>False</td>\n",
       "    </tr>\n",
       "    <tr>\n",
       "      <th>2</th>\n",
       "      <td>0</td>\n",
       "      <td>False</td>\n",
       "      <td>False</td>\n",
       "      <td>False</td>\n",
       "      <td>False</td>\n",
       "      <td>False</td>\n",
       "      <td>False</td>\n",
       "      <td>False</td>\n",
       "      <td>True</td>\n",
       "      <td>False</td>\n",
       "      <td>...</td>\n",
       "      <td>False</td>\n",
       "      <td>False</td>\n",
       "      <td>False</td>\n",
       "      <td>True</td>\n",
       "      <td>False</td>\n",
       "      <td>False</td>\n",
       "      <td>True</td>\n",
       "      <td>False</td>\n",
       "      <td>True</td>\n",
       "      <td>False</td>\n",
       "    </tr>\n",
       "    <tr>\n",
       "      <th>3</th>\n",
       "      <td>0</td>\n",
       "      <td>False</td>\n",
       "      <td>False</td>\n",
       "      <td>False</td>\n",
       "      <td>False</td>\n",
       "      <td>False</td>\n",
       "      <td>False</td>\n",
       "      <td>False</td>\n",
       "      <td>True</td>\n",
       "      <td>False</td>\n",
       "      <td>...</td>\n",
       "      <td>False</td>\n",
       "      <td>True</td>\n",
       "      <td>False</td>\n",
       "      <td>False</td>\n",
       "      <td>False</td>\n",
       "      <td>False</td>\n",
       "      <td>True</td>\n",
       "      <td>False</td>\n",
       "      <td>True</td>\n",
       "      <td>False</td>\n",
       "    </tr>\n",
       "    <tr>\n",
       "      <th>4</th>\n",
       "      <td>0</td>\n",
       "      <td>False</td>\n",
       "      <td>False</td>\n",
       "      <td>False</td>\n",
       "      <td>False</td>\n",
       "      <td>False</td>\n",
       "      <td>False</td>\n",
       "      <td>False</td>\n",
       "      <td>False</td>\n",
       "      <td>True</td>\n",
       "      <td>...</td>\n",
       "      <td>False</td>\n",
       "      <td>False</td>\n",
       "      <td>False</td>\n",
       "      <td>True</td>\n",
       "      <td>False</td>\n",
       "      <td>False</td>\n",
       "      <td>True</td>\n",
       "      <td>False</td>\n",
       "      <td>True</td>\n",
       "      <td>False</td>\n",
       "    </tr>\n",
       "  </tbody>\n",
       "</table>\n",
       "<p>5 rows × 71 columns</p>\n",
       "</div>"
      ],
      "text/plain": [
       "  is_promoted  department_Analytics  department_Finance  department_HR  \\\n",
       "0           0                 False               False          False   \n",
       "1           0                 False               False          False   \n",
       "2           0                 False               False          False   \n",
       "3           0                 False               False          False   \n",
       "4           0                 False               False          False   \n",
       "\n",
       "   department_Legal  department_Operations  department_Procurement  \\\n",
       "0             False                  False                   False   \n",
       "1             False                   True                   False   \n",
       "2             False                  False                   False   \n",
       "3             False                  False                   False   \n",
       "4             False                  False                   False   \n",
       "\n",
       "   department_R&D  department_Sales & Marketing  department_Technology  ...  \\\n",
       "0           False                          True                  False  ...   \n",
       "1           False                         False                  False  ...   \n",
       "2           False                          True                  False  ...   \n",
       "3           False                          True                  False  ...   \n",
       "4           False                         False                   True  ...   \n",
       "\n",
       "   no_of_trainings_10  previous_year_rating_1.0  previous_year_rating_2.0  \\\n",
       "0               False                     False                     False   \n",
       "1               False                     False                     False   \n",
       "2               False                     False                     False   \n",
       "3               False                      True                     False   \n",
       "4               False                     False                     False   \n",
       "\n",
       "   previous_year_rating_3.0  previous_year_rating_4.0  \\\n",
       "0                     False                     False   \n",
       "1                     False                     False   \n",
       "2                      True                     False   \n",
       "3                     False                     False   \n",
       "4                      True                     False   \n",
       "\n",
       "   previous_year_rating_5.0  KPIs_met >80%_0  KPIs_met >80%_1  awards_won?_0  \\\n",
       "0                      True            False             True           True   \n",
       "1                      True             True            False           True   \n",
       "2                     False             True            False           True   \n",
       "3                     False             True            False           True   \n",
       "4                     False             True            False           True   \n",
       "\n",
       "   awards_won?_1  \n",
       "0          False  \n",
       "1          False  \n",
       "2          False  \n",
       "3          False  \n",
       "4          False  \n",
       "\n",
       "[5 rows x 71 columns]"
      ]
     },
     "execution_count": 47,
     "metadata": {},
     "output_type": "execute_result"
    }
   ],
   "source": [
    "objcols_dummy.head()"
   ]
  },
  {
   "cell_type": "code",
   "execution_count": 48,
   "id": "96dbe41e",
   "metadata": {},
   "outputs": [
    {
     "data": {
      "text/html": [
       "<div>\n",
       "<style scoped>\n",
       "    .dataframe tbody tr th:only-of-type {\n",
       "        vertical-align: middle;\n",
       "    }\n",
       "\n",
       "    .dataframe tbody tr th {\n",
       "        vertical-align: top;\n",
       "    }\n",
       "\n",
       "    .dataframe thead th {\n",
       "        text-align: right;\n",
       "    }\n",
       "</style>\n",
       "<table border=\"1\" class=\"dataframe\">\n",
       "  <thead>\n",
       "    <tr style=\"text-align: right;\">\n",
       "      <th></th>\n",
       "      <th>is_promoted</th>\n",
       "      <th>department_Analytics</th>\n",
       "      <th>department_Finance</th>\n",
       "      <th>department_HR</th>\n",
       "      <th>department_Legal</th>\n",
       "      <th>department_Operations</th>\n",
       "      <th>department_Procurement</th>\n",
       "      <th>department_R&amp;D</th>\n",
       "      <th>department_Sales &amp; Marketing</th>\n",
       "      <th>department_Technology</th>\n",
       "      <th>...</th>\n",
       "      <th>no_of_trainings_10</th>\n",
       "      <th>previous_year_rating_1.0</th>\n",
       "      <th>previous_year_rating_2.0</th>\n",
       "      <th>previous_year_rating_3.0</th>\n",
       "      <th>previous_year_rating_4.0</th>\n",
       "      <th>previous_year_rating_5.0</th>\n",
       "      <th>KPIs_met &gt;80%_0</th>\n",
       "      <th>KPIs_met &gt;80%_1</th>\n",
       "      <th>awards_won?_0</th>\n",
       "      <th>awards_won?_1</th>\n",
       "    </tr>\n",
       "  </thead>\n",
       "  <tbody>\n",
       "    <tr>\n",
       "      <th>0</th>\n",
       "      <td>0</td>\n",
       "      <td>0</td>\n",
       "      <td>0</td>\n",
       "      <td>0</td>\n",
       "      <td>0</td>\n",
       "      <td>0</td>\n",
       "      <td>0</td>\n",
       "      <td>0</td>\n",
       "      <td>1</td>\n",
       "      <td>0</td>\n",
       "      <td>...</td>\n",
       "      <td>0</td>\n",
       "      <td>0</td>\n",
       "      <td>0</td>\n",
       "      <td>0</td>\n",
       "      <td>0</td>\n",
       "      <td>1</td>\n",
       "      <td>0</td>\n",
       "      <td>1</td>\n",
       "      <td>1</td>\n",
       "      <td>0</td>\n",
       "    </tr>\n",
       "    <tr>\n",
       "      <th>1</th>\n",
       "      <td>0</td>\n",
       "      <td>0</td>\n",
       "      <td>0</td>\n",
       "      <td>0</td>\n",
       "      <td>0</td>\n",
       "      <td>1</td>\n",
       "      <td>0</td>\n",
       "      <td>0</td>\n",
       "      <td>0</td>\n",
       "      <td>0</td>\n",
       "      <td>...</td>\n",
       "      <td>0</td>\n",
       "      <td>0</td>\n",
       "      <td>0</td>\n",
       "      <td>0</td>\n",
       "      <td>0</td>\n",
       "      <td>1</td>\n",
       "      <td>1</td>\n",
       "      <td>0</td>\n",
       "      <td>1</td>\n",
       "      <td>0</td>\n",
       "    </tr>\n",
       "    <tr>\n",
       "      <th>2</th>\n",
       "      <td>0</td>\n",
       "      <td>0</td>\n",
       "      <td>0</td>\n",
       "      <td>0</td>\n",
       "      <td>0</td>\n",
       "      <td>0</td>\n",
       "      <td>0</td>\n",
       "      <td>0</td>\n",
       "      <td>1</td>\n",
       "      <td>0</td>\n",
       "      <td>...</td>\n",
       "      <td>0</td>\n",
       "      <td>0</td>\n",
       "      <td>0</td>\n",
       "      <td>1</td>\n",
       "      <td>0</td>\n",
       "      <td>0</td>\n",
       "      <td>1</td>\n",
       "      <td>0</td>\n",
       "      <td>1</td>\n",
       "      <td>0</td>\n",
       "    </tr>\n",
       "    <tr>\n",
       "      <th>3</th>\n",
       "      <td>0</td>\n",
       "      <td>0</td>\n",
       "      <td>0</td>\n",
       "      <td>0</td>\n",
       "      <td>0</td>\n",
       "      <td>0</td>\n",
       "      <td>0</td>\n",
       "      <td>0</td>\n",
       "      <td>1</td>\n",
       "      <td>0</td>\n",
       "      <td>...</td>\n",
       "      <td>0</td>\n",
       "      <td>1</td>\n",
       "      <td>0</td>\n",
       "      <td>0</td>\n",
       "      <td>0</td>\n",
       "      <td>0</td>\n",
       "      <td>1</td>\n",
       "      <td>0</td>\n",
       "      <td>1</td>\n",
       "      <td>0</td>\n",
       "    </tr>\n",
       "    <tr>\n",
       "      <th>4</th>\n",
       "      <td>0</td>\n",
       "      <td>0</td>\n",
       "      <td>0</td>\n",
       "      <td>0</td>\n",
       "      <td>0</td>\n",
       "      <td>0</td>\n",
       "      <td>0</td>\n",
       "      <td>0</td>\n",
       "      <td>0</td>\n",
       "      <td>1</td>\n",
       "      <td>...</td>\n",
       "      <td>0</td>\n",
       "      <td>0</td>\n",
       "      <td>0</td>\n",
       "      <td>1</td>\n",
       "      <td>0</td>\n",
       "      <td>0</td>\n",
       "      <td>1</td>\n",
       "      <td>0</td>\n",
       "      <td>1</td>\n",
       "      <td>0</td>\n",
       "    </tr>\n",
       "  </tbody>\n",
       "</table>\n",
       "<p>5 rows × 71 columns</p>\n",
       "</div>"
      ],
      "text/plain": [
       "  is_promoted  department_Analytics  department_Finance  department_HR  \\\n",
       "0           0                     0                   0              0   \n",
       "1           0                     0                   0              0   \n",
       "2           0                     0                   0              0   \n",
       "3           0                     0                   0              0   \n",
       "4           0                     0                   0              0   \n",
       "\n",
       "   department_Legal  department_Operations  department_Procurement  \\\n",
       "0                 0                      0                       0   \n",
       "1                 0                      1                       0   \n",
       "2                 0                      0                       0   \n",
       "3                 0                      0                       0   \n",
       "4                 0                      0                       0   \n",
       "\n",
       "   department_R&D  department_Sales & Marketing  department_Technology  ...  \\\n",
       "0               0                             1                      0  ...   \n",
       "1               0                             0                      0  ...   \n",
       "2               0                             1                      0  ...   \n",
       "3               0                             1                      0  ...   \n",
       "4               0                             0                      1  ...   \n",
       "\n",
       "   no_of_trainings_10  previous_year_rating_1.0  previous_year_rating_2.0  \\\n",
       "0                   0                         0                         0   \n",
       "1                   0                         0                         0   \n",
       "2                   0                         0                         0   \n",
       "3                   0                         1                         0   \n",
       "4                   0                         0                         0   \n",
       "\n",
       "   previous_year_rating_3.0  previous_year_rating_4.0  \\\n",
       "0                         0                         0   \n",
       "1                         0                         0   \n",
       "2                         1                         0   \n",
       "3                         0                         0   \n",
       "4                         1                         0   \n",
       "\n",
       "   previous_year_rating_5.0  KPIs_met >80%_0  KPIs_met >80%_1  awards_won?_0  \\\n",
       "0                         1                0                1              1   \n",
       "1                         1                1                0              1   \n",
       "2                         0                1                0              1   \n",
       "3                         0                1                0              1   \n",
       "4                         0                1                0              1   \n",
       "\n",
       "   awards_won?_1  \n",
       "0              0  \n",
       "1              0  \n",
       "2              0  \n",
       "3              0  \n",
       "4              0  \n",
       "\n",
       "[5 rows x 71 columns]"
      ]
     },
     "execution_count": 48,
     "metadata": {},
     "output_type": "execute_result"
    }
   ],
   "source": [
    "objcols_dummy.replace({False:0,True:1},inplace=True)\n",
    "objcols_dummy.head()"
   ]
  },
  {
   "cell_type": "code",
   "execution_count": 49,
   "id": "77d5ef2c",
   "metadata": {},
   "outputs": [],
   "source": [
    "combinedf_clean=pd.concat([numcols_minmax.reset_index(),objcols_dummy.reset_index()],axis=1)\n",
    "\n",
    "#One way to scale numerical variables is to apply the minmax method. This method transforms the values of \n",
    "#each variable to a range between 0 and 1, preserving the original distribution. I have used the minmax for \n",
    "#numerical variables for scaling in my data preprocessing step."
   ]
  },
  {
   "cell_type": "code",
   "execution_count": 50,
   "id": "5cb8be4c",
   "metadata": {},
   "outputs": [
    {
     "data": {
      "text/html": [
       "<div>\n",
       "<style scoped>\n",
       "    .dataframe tbody tr th:only-of-type {\n",
       "        vertical-align: middle;\n",
       "    }\n",
       "\n",
       "    .dataframe tbody tr th {\n",
       "        vertical-align: top;\n",
       "    }\n",
       "\n",
       "    .dataframe thead th {\n",
       "        text-align: right;\n",
       "    }\n",
       "</style>\n",
       "<table border=\"1\" class=\"dataframe\">\n",
       "  <thead>\n",
       "    <tr style=\"text-align: right;\">\n",
       "      <th></th>\n",
       "      <th>index</th>\n",
       "      <th>age</th>\n",
       "      <th>length_of_service</th>\n",
       "      <th>avg_training_score</th>\n",
       "      <th>index</th>\n",
       "      <th>is_promoted</th>\n",
       "      <th>department_Analytics</th>\n",
       "      <th>department_Finance</th>\n",
       "      <th>department_HR</th>\n",
       "      <th>department_Legal</th>\n",
       "      <th>...</th>\n",
       "      <th>no_of_trainings_10</th>\n",
       "      <th>previous_year_rating_1.0</th>\n",
       "      <th>previous_year_rating_2.0</th>\n",
       "      <th>previous_year_rating_3.0</th>\n",
       "      <th>previous_year_rating_4.0</th>\n",
       "      <th>previous_year_rating_5.0</th>\n",
       "      <th>KPIs_met &gt;80%_0</th>\n",
       "      <th>KPIs_met &gt;80%_1</th>\n",
       "      <th>awards_won?_0</th>\n",
       "      <th>awards_won?_1</th>\n",
       "    </tr>\n",
       "  </thead>\n",
       "  <tbody>\n",
       "    <tr>\n",
       "      <th>0</th>\n",
       "      <td>0</td>\n",
       "      <td>0.375</td>\n",
       "      <td>0.194444</td>\n",
       "      <td>0.166667</td>\n",
       "      <td>0</td>\n",
       "      <td>0</td>\n",
       "      <td>0</td>\n",
       "      <td>0</td>\n",
       "      <td>0</td>\n",
       "      <td>0</td>\n",
       "      <td>...</td>\n",
       "      <td>0</td>\n",
       "      <td>0</td>\n",
       "      <td>0</td>\n",
       "      <td>0</td>\n",
       "      <td>0</td>\n",
       "      <td>1</td>\n",
       "      <td>0</td>\n",
       "      <td>1</td>\n",
       "      <td>1</td>\n",
       "      <td>0</td>\n",
       "    </tr>\n",
       "    <tr>\n",
       "      <th>1</th>\n",
       "      <td>1</td>\n",
       "      <td>0.250</td>\n",
       "      <td>0.083333</td>\n",
       "      <td>0.350000</td>\n",
       "      <td>1</td>\n",
       "      <td>0</td>\n",
       "      <td>0</td>\n",
       "      <td>0</td>\n",
       "      <td>0</td>\n",
       "      <td>0</td>\n",
       "      <td>...</td>\n",
       "      <td>0</td>\n",
       "      <td>0</td>\n",
       "      <td>0</td>\n",
       "      <td>0</td>\n",
       "      <td>0</td>\n",
       "      <td>1</td>\n",
       "      <td>1</td>\n",
       "      <td>0</td>\n",
       "      <td>1</td>\n",
       "      <td>0</td>\n",
       "    </tr>\n",
       "    <tr>\n",
       "      <th>2</th>\n",
       "      <td>2</td>\n",
       "      <td>0.350</td>\n",
       "      <td>0.166667</td>\n",
       "      <td>0.183333</td>\n",
       "      <td>2</td>\n",
       "      <td>0</td>\n",
       "      <td>0</td>\n",
       "      <td>0</td>\n",
       "      <td>0</td>\n",
       "      <td>0</td>\n",
       "      <td>...</td>\n",
       "      <td>0</td>\n",
       "      <td>0</td>\n",
       "      <td>0</td>\n",
       "      <td>1</td>\n",
       "      <td>0</td>\n",
       "      <td>0</td>\n",
       "      <td>1</td>\n",
       "      <td>0</td>\n",
       "      <td>1</td>\n",
       "      <td>0</td>\n",
       "    </tr>\n",
       "    <tr>\n",
       "      <th>3</th>\n",
       "      <td>3</td>\n",
       "      <td>0.475</td>\n",
       "      <td>0.250000</td>\n",
       "      <td>0.183333</td>\n",
       "      <td>3</td>\n",
       "      <td>0</td>\n",
       "      <td>0</td>\n",
       "      <td>0</td>\n",
       "      <td>0</td>\n",
       "      <td>0</td>\n",
       "      <td>...</td>\n",
       "      <td>0</td>\n",
       "      <td>1</td>\n",
       "      <td>0</td>\n",
       "      <td>0</td>\n",
       "      <td>0</td>\n",
       "      <td>0</td>\n",
       "      <td>1</td>\n",
       "      <td>0</td>\n",
       "      <td>1</td>\n",
       "      <td>0</td>\n",
       "    </tr>\n",
       "    <tr>\n",
       "      <th>4</th>\n",
       "      <td>4</td>\n",
       "      <td>0.625</td>\n",
       "      <td>0.027778</td>\n",
       "      <td>0.566667</td>\n",
       "      <td>4</td>\n",
       "      <td>0</td>\n",
       "      <td>0</td>\n",
       "      <td>0</td>\n",
       "      <td>0</td>\n",
       "      <td>0</td>\n",
       "      <td>...</td>\n",
       "      <td>0</td>\n",
       "      <td>0</td>\n",
       "      <td>0</td>\n",
       "      <td>1</td>\n",
       "      <td>0</td>\n",
       "      <td>0</td>\n",
       "      <td>1</td>\n",
       "      <td>0</td>\n",
       "      <td>1</td>\n",
       "      <td>0</td>\n",
       "    </tr>\n",
       "  </tbody>\n",
       "</table>\n",
       "<p>5 rows × 76 columns</p>\n",
       "</div>"
      ],
      "text/plain": [
       "   index    age  length_of_service  avg_training_score  index is_promoted  \\\n",
       "0      0  0.375           0.194444            0.166667      0           0   \n",
       "1      1  0.250           0.083333            0.350000      1           0   \n",
       "2      2  0.350           0.166667            0.183333      2           0   \n",
       "3      3  0.475           0.250000            0.183333      3           0   \n",
       "4      4  0.625           0.027778            0.566667      4           0   \n",
       "\n",
       "   department_Analytics  department_Finance  department_HR  department_Legal  \\\n",
       "0                     0                   0              0                 0   \n",
       "1                     0                   0              0                 0   \n",
       "2                     0                   0              0                 0   \n",
       "3                     0                   0              0                 0   \n",
       "4                     0                   0              0                 0   \n",
       "\n",
       "   ...  no_of_trainings_10  previous_year_rating_1.0  \\\n",
       "0  ...                   0                         0   \n",
       "1  ...                   0                         0   \n",
       "2  ...                   0                         0   \n",
       "3  ...                   0                         1   \n",
       "4  ...                   0                         0   \n",
       "\n",
       "   previous_year_rating_2.0  previous_year_rating_3.0  \\\n",
       "0                         0                         0   \n",
       "1                         0                         0   \n",
       "2                         0                         1   \n",
       "3                         0                         0   \n",
       "4                         0                         1   \n",
       "\n",
       "   previous_year_rating_4.0  previous_year_rating_5.0  KPIs_met >80%_0  \\\n",
       "0                         0                         1                0   \n",
       "1                         0                         1                1   \n",
       "2                         0                         0                1   \n",
       "3                         0                         0                1   \n",
       "4                         0                         0                1   \n",
       "\n",
       "   KPIs_met >80%_1  awards_won?_0  awards_won?_1  \n",
       "0                1              1              0  \n",
       "1                0              1              0  \n",
       "2                0              1              0  \n",
       "3                0              1              0  \n",
       "4                0              1              0  \n",
       "\n",
       "[5 rows x 76 columns]"
      ]
     },
     "execution_count": 50,
     "metadata": {},
     "output_type": "execute_result"
    }
   ],
   "source": [
    "combinedf_clean.head()"
   ]
  },
  {
   "cell_type": "code",
   "execution_count": 51,
   "id": "1a51645c",
   "metadata": {},
   "outputs": [],
   "source": [
    "combinedf_clean.drop(['index'],axis=1,inplace=True)"
   ]
  },
  {
   "cell_type": "code",
   "execution_count": 52,
   "id": "00ecc77e",
   "metadata": {},
   "outputs": [],
   "source": [
    "#split data back to train and test \n",
    "trainhr_df=combinedf_clean[combinedf_clean.is_promoted!='test']\n",
    "testhr_df=combinedf_clean[combinedf_clean.is_promoted=='test']"
   ]
  },
  {
   "cell_type": "code",
   "execution_count": 53,
   "id": "1c83875f",
   "metadata": {},
   "outputs": [],
   "source": [
    "#split data back to train and test for EDA Hypothesis testing as this dataset doesn't have scaled numerical variables\n",
    "#and dummies in categorical columns.\n",
    "trainhr_EDA=combinedf[combinedf.is_promoted!='test']\n",
    "testhr_EDA=combinedf[combinedf.is_promoted=='test']"
   ]
  },
  {
   "cell_type": "markdown",
   "id": "4cf8fd62",
   "metadata": {},
   "source": [
    "### Descriptive statistics using the train dataset."
   ]
  },
  {
   "cell_type": "code",
   "execution_count": 54,
   "id": "b8202381",
   "metadata": {},
   "outputs": [
    {
     "data": {
      "text/plain": [
       "count     54808\n",
       "unique       10\n",
       "top           1\n",
       "freq      44378\n",
       "Name: no_of_trainings, dtype: int64"
      ]
     },
     "execution_count": 54,
     "metadata": {},
     "output_type": "execute_result"
    }
   ],
   "source": [
    "trainhr_EDA.no_of_trainings.describe()"
   ]
  },
  {
   "cell_type": "code",
   "execution_count": 55,
   "id": "ba3a6e70",
   "metadata": {},
   "outputs": [
    {
     "data": {
      "text/plain": [
       "count    54808.000000\n",
       "mean        34.803915\n",
       "std          7.660169\n",
       "min         20.000000\n",
       "25%         29.000000\n",
       "50%         33.000000\n",
       "75%         39.000000\n",
       "max         60.000000\n",
       "Name: age, dtype: float64"
      ]
     },
     "execution_count": 55,
     "metadata": {},
     "output_type": "execute_result"
    }
   ],
   "source": [
    "trainhr_EDA.age.describe()"
   ]
  },
  {
   "cell_type": "code",
   "execution_count": 56,
   "id": "0b8e5159",
   "metadata": {},
   "outputs": [
    {
     "data": {
      "text/plain": [
       "count    54808.000000\n",
       "mean         5.865512\n",
       "std          4.265094\n",
       "min          1.000000\n",
       "25%          3.000000\n",
       "50%          5.000000\n",
       "75%          7.000000\n",
       "max         37.000000\n",
       "Name: length_of_service, dtype: float64"
      ]
     },
     "execution_count": 56,
     "metadata": {},
     "output_type": "execute_result"
    }
   ],
   "source": [
    "trainhr.length_of_service.describe()"
   ]
  },
  {
   "cell_type": "code",
   "execution_count": 57,
   "id": "93f76df0",
   "metadata": {},
   "outputs": [
    {
     "data": {
      "text/plain": [
       "count    54808.000000\n",
       "mean        63.386750\n",
       "std         13.371559\n",
       "min         39.000000\n",
       "25%         51.000000\n",
       "50%         60.000000\n",
       "75%         76.000000\n",
       "max         99.000000\n",
       "Name: avg_training_score, dtype: float64"
      ]
     },
     "execution_count": 57,
     "metadata": {},
     "output_type": "execute_result"
    }
   ],
   "source": [
    "trainhr_EDA.avg_training_score.describe()"
   ]
  },
  {
   "cell_type": "markdown",
   "id": "3d5c4354",
   "metadata": {},
   "source": [
    "### Data Visualization of categorical variables."
   ]
  },
  {
   "cell_type": "code",
   "execution_count": 58,
   "id": "99489d10",
   "metadata": {},
   "outputs": [
    {
     "name": "stdout",
     "output_type": "stream",
     "text": [
      "is_promoted\n",
      "0    50140\n",
      "1     4668\n",
      "Name: count, dtype: int64\n"
     ]
    },
    {
     "data": {
      "text/plain": [
       "<Axes: ylabel='count'>"
      ]
     },
     "execution_count": 58,
     "metadata": {},
     "output_type": "execute_result"
    },
    {
     "data": {
      "image/png": "[encoded data removed]",
      "text/plain": [
       "<Figure size 640x480 with 1 Axes>"
      ]
     },
     "metadata": {},
     "output_type": "display_data"
    }
   ],
   "source": [
    "#frequency counts of is_promoted,gender,previous_year_ratnig,with pie diagram\n",
    "print(trainhr_EDA.is_promoted.value_counts())\n",
    "trainhr_EDA.is_promoted.value_counts().plot(kind='pie',autopct='%0.2f%%')"
   ]
  },
  {
   "cell_type": "code",
   "execution_count": 59,
   "id": "028d8dc6",
   "metadata": {},
   "outputs": [
    {
     "name": "stdout",
     "output_type": "stream",
     "text": [
      "gender\n",
      "m    38496\n",
      "f    16312\n",
      "Name: count, dtype: int64\n"
     ]
    },
    {
     "data": {
      "text/plain": [
       "<Axes: ylabel='count'>"
      ]
     },
     "execution_count": 59,
     "metadata": {},
     "output_type": "execute_result"
    },
    {
     "data": {
      "image/png": "[encoded data removed]",
      "text/plain": [
       "<Figure size 640x480 with 1 Axes>"
      ]
     },
     "metadata": {},
     "output_type": "display_data"
    }
   ],
   "source": [
    "print(trainhr_EDA.gender.value_counts())\n",
    "trainhr_EDA.gender.value_counts().plot(kind='pie',autopct='%0.2f%%')"
   ]
  },
  {
   "cell_type": "code",
   "execution_count": 60,
   "id": "e13c1ba4",
   "metadata": {},
   "outputs": [
    {
     "name": "stdout",
     "output_type": "stream",
     "text": [
      "previous_year_rating\n",
      "3.0    22742\n",
      "5.0    11741\n",
      "4.0     9877\n",
      "1.0     6223\n",
      "2.0     4225\n",
      "Name: count, dtype: int64\n"
     ]
    },
    {
     "data": {
      "text/plain": [
       "<Axes: ylabel='count'>"
      ]
     },
     "execution_count": 60,
     "metadata": {},
     "output_type": "execute_result"
    },
    {
     "data": {
      "image/png": "[encoded data removed]",
      "text/plain": [
       "<Figure size 640x480 with 1 Axes>"
      ]
     },
     "metadata": {},
     "output_type": "display_data"
    }
   ],
   "source": [
    "print(trainhr_EDA.previous_year_rating.value_counts())\n",
    "trainhr_EDA.previous_year_rating.value_counts().plot(kind='pie',autopct='%0.2f%%')"
   ]
  },
  {
   "cell_type": "markdown",
   "id": "c15b4cdc",
   "metadata": {},
   "source": [
    "### Crosstablulation of categorical variables"
   ]
  },
  {
   "cell_type": "code",
   "execution_count": 61,
   "id": "bd7b28ff",
   "metadata": {},
   "outputs": [
    {
     "data": {
      "text/html": [
       "<div>\n",
       "<style scoped>\n",
       "    .dataframe tbody tr th:only-of-type {\n",
       "        vertical-align: middle;\n",
       "    }\n",
       "\n",
       "    .dataframe tbody tr th {\n",
       "        vertical-align: top;\n",
       "    }\n",
       "\n",
       "    .dataframe thead th {\n",
       "        text-align: right;\n",
       "    }\n",
       "</style>\n",
       "<table border=\"1\" class=\"dataframe\">\n",
       "  <thead>\n",
       "    <tr style=\"text-align: right;\">\n",
       "      <th>recruitment_channel</th>\n",
       "      <th>other</th>\n",
       "      <th>referred</th>\n",
       "      <th>sourcing</th>\n",
       "    </tr>\n",
       "    <tr>\n",
       "      <th>is_promoted</th>\n",
       "      <th></th>\n",
       "      <th></th>\n",
       "      <th></th>\n",
       "    </tr>\n",
       "  </thead>\n",
       "  <tbody>\n",
       "    <tr>\n",
       "      <th>0</th>\n",
       "      <td>27890</td>\n",
       "      <td>1004</td>\n",
       "      <td>21246</td>\n",
       "    </tr>\n",
       "    <tr>\n",
       "      <th>1</th>\n",
       "      <td>2556</td>\n",
       "      <td>138</td>\n",
       "      <td>1974</td>\n",
       "    </tr>\n",
       "  </tbody>\n",
       "</table>\n",
       "</div>"
      ],
      "text/plain": [
       "recruitment_channel  other  referred  sourcing\n",
       "is_promoted                                   \n",
       "0                    27890      1004     21246\n",
       "1                     2556       138      1974"
      ]
     },
     "execution_count": 61,
     "metadata": {},
     "output_type": "execute_result"
    }
   ],
   "source": [
    "pd.crosstab(trainhr_EDA.is_promoted,trainhr_EDA.recruitment_channel)"
   ]
  },
  {
   "cell_type": "code",
   "execution_count": 62,
   "id": "1fd2a10a",
   "metadata": {},
   "outputs": [
    {
     "data": {
      "text/html": [
       "<div>\n",
       "<style scoped>\n",
       "    .dataframe tbody tr th:only-of-type {\n",
       "        vertical-align: middle;\n",
       "    }\n",
       "\n",
       "    .dataframe tbody tr th {\n",
       "        vertical-align: top;\n",
       "    }\n",
       "\n",
       "    .dataframe thead th {\n",
       "        text-align: right;\n",
       "    }\n",
       "</style>\n",
       "<table border=\"1\" class=\"dataframe\">\n",
       "  <thead>\n",
       "    <tr style=\"text-align: right;\">\n",
       "      <th>KPIs_met &gt;80%</th>\n",
       "      <th>0</th>\n",
       "      <th>1</th>\n",
       "    </tr>\n",
       "    <tr>\n",
       "      <th>is_promoted</th>\n",
       "      <th></th>\n",
       "      <th></th>\n",
       "    </tr>\n",
       "  </thead>\n",
       "  <tbody>\n",
       "    <tr>\n",
       "      <th>0</th>\n",
       "      <td>34111</td>\n",
       "      <td>16029</td>\n",
       "    </tr>\n",
       "    <tr>\n",
       "      <th>1</th>\n",
       "      <td>1406</td>\n",
       "      <td>3262</td>\n",
       "    </tr>\n",
       "  </tbody>\n",
       "</table>\n",
       "</div>"
      ],
      "text/plain": [
       "KPIs_met >80%      0      1\n",
       "is_promoted                \n",
       "0              34111  16029\n",
       "1               1406   3262"
      ]
     },
     "execution_count": 62,
     "metadata": {},
     "output_type": "execute_result"
    }
   ],
   "source": [
    "pd.crosstab(trainhr_EDA.is_promoted,trainhr_EDA['KPIs_met >80%'])"
   ]
  },
  {
   "cell_type": "code",
   "execution_count": 63,
   "id": "8d5011af",
   "metadata": {},
   "outputs": [
    {
     "data": {
      "text/html": [
       "<div>\n",
       "<style scoped>\n",
       "    .dataframe tbody tr th:only-of-type {\n",
       "        vertical-align: middle;\n",
       "    }\n",
       "\n",
       "    .dataframe tbody tr th {\n",
       "        vertical-align: top;\n",
       "    }\n",
       "\n",
       "    .dataframe thead th {\n",
       "        text-align: right;\n",
       "    }\n",
       "</style>\n",
       "<table border=\"1\" class=\"dataframe\">\n",
       "  <thead>\n",
       "    <tr style=\"text-align: right;\">\n",
       "      <th>awards_won?</th>\n",
       "      <th>0</th>\n",
       "      <th>1</th>\n",
       "    </tr>\n",
       "    <tr>\n",
       "      <th>is_promoted</th>\n",
       "      <th></th>\n",
       "      <th></th>\n",
       "    </tr>\n",
       "  </thead>\n",
       "  <tbody>\n",
       "    <tr>\n",
       "      <th>0</th>\n",
       "      <td>49429</td>\n",
       "      <td>711</td>\n",
       "    </tr>\n",
       "    <tr>\n",
       "      <th>1</th>\n",
       "      <td>4109</td>\n",
       "      <td>559</td>\n",
       "    </tr>\n",
       "  </tbody>\n",
       "</table>\n",
       "</div>"
      ],
      "text/plain": [
       "awards_won?      0    1\n",
       "is_promoted            \n",
       "0            49429  711\n",
       "1             4109  559"
      ]
     },
     "execution_count": 63,
     "metadata": {},
     "output_type": "execute_result"
    }
   ],
   "source": [
    "pd.crosstab(trainhr_EDA.is_promoted,trainhr_EDA['awards_won?'])"
   ]
  },
  {
   "cell_type": "markdown",
   "id": "194489bb",
   "metadata": {},
   "source": [
    "### Data Aggregation"
   ]
  },
  {
   "cell_type": "code",
   "execution_count": 64,
   "id": "58acb415",
   "metadata": {
    "scrolled": true
   },
   "outputs": [
    {
     "data": {
      "text/plain": [
       "is_promoted\n",
       "0    62.647686\n",
       "1    71.325193\n",
       "Name: avg_training_score, dtype: float64"
      ]
     },
     "execution_count": 64,
     "metadata": {},
     "output_type": "execute_result"
    }
   ],
   "source": [
    "trainhr_EDA.avg_training_score.groupby(trainhr_EDA.is_promoted).mean()"
   ]
  },
  {
   "cell_type": "code",
   "execution_count": 65,
   "id": "4ec15456",
   "metadata": {},
   "outputs": [
    {
     "data": {
      "text/plain": [
       "is_promoted\n",
       "0    5.879398\n",
       "1    5.716367\n",
       "Name: length_of_service, dtype: float64"
      ]
     },
     "execution_count": 65,
     "metadata": {},
     "output_type": "execute_result"
    }
   ],
   "source": [
    "trainhr_EDA.length_of_service.groupby(trainhr_EDA.is_promoted).mean()"
   ]
  },
  {
   "cell_type": "code",
   "execution_count": 66,
   "id": "a87245d5",
   "metadata": {},
   "outputs": [
    {
     "data": {
      "text/plain": [
       "is_promoted\n",
       "0    34.844037\n",
       "1    34.372965\n",
       "Name: age, dtype: float64"
      ]
     },
     "execution_count": 66,
     "metadata": {},
     "output_type": "execute_result"
    }
   ],
   "source": [
    "trainhr_EDA.age.groupby(trainhr_EDA.is_promoted).mean()"
   ]
  },
  {
   "cell_type": "markdown",
   "id": "fe2e03e3",
   "metadata": {},
   "source": [
    "### Hypothesis testing"
   ]
  },
  {
   "cell_type": "code",
   "execution_count": 67,
   "id": "25b07d1b",
   "metadata": {},
   "outputs": [],
   "source": [
    "#performing hypothesis testing using T-Test.\n",
    "\n",
    "one=trainhr_EDA[trainhr_EDA.is_promoted==1]\n",
    "zero=trainhr_EDA[trainhr_EDA.is_promoted==0]"
   ]
  },
  {
   "cell_type": "markdown",
   "id": "caf3ca47",
   "metadata": {},
   "source": [
    "Null hypothesis - There is no significant difference between the two given variables. (p-values greater than 0.05)\n",
    "\n",
    "Alternative Hypothesis - There is significant difference between the two given variables.(p-values less than 0.05)"
   ]
  },
  {
   "cell_type": "code",
   "execution_count": 68,
   "id": "0f1591fc",
   "metadata": {},
   "outputs": [],
   "source": [
    "from scipy.stats import ttest_ind #importing the ttest_ind for hypothesis testing."
   ]
  },
  {
   "cell_type": "code",
   "execution_count": 69,
   "id": "37aabf5b",
   "metadata": {},
   "outputs": [
    {
     "data": {
      "text/plain": [
       "TtestResult(statistic=38.82675007357188, pvalue=7.662329172468838e-291, df=5363.307824110073)"
      ]
     },
     "execution_count": 69,
     "metadata": {},
     "output_type": "execute_result"
    }
   ],
   "source": [
    "#Hypothesis testing to find if there is a significant difference between avg_training_score and is_promoted\n",
    "\n",
    "ttest_ind(one.avg_training_score,zero.avg_training_score,equal_var=False)\n",
    "\n",
    "#since pvalue=7.662329172468838e-291 is lessthan 0.05,reject null\n",
    "\n",
    "#Alternative Hypothesis True, There is significant difference between avg_training_score and is_promoted"
   ]
  },
  {
   "cell_type": "code",
   "execution_count": 70,
   "id": "b9dc2340",
   "metadata": {},
   "outputs": [
    {
     "data": {
      "text/plain": [
       "TtestResult(statistic=-2.6420549711884886, pvalue=0.008262946987836755, df=5708.750739466446)"
      ]
     },
     "execution_count": 70,
     "metadata": {},
     "output_type": "execute_result"
    }
   ],
   "source": [
    "#Hypothesis testing is to find if there is a significant difference between is_promoted and length_of_service\n",
    "\n",
    "ttest_ind(one.length_of_service,zero.length_of_service,equal_var=False)\n",
    "\n",
    "#since pvalue=0.008262946987836755 is lessthan 0.05,reject null\n",
    "\n",
    "#Alternative Hypothesis True, There is significant difference between is_promoted and length_of_service"
   ]
  },
  {
   "cell_type": "code",
   "execution_count": 71,
   "id": "ff0664fe",
   "metadata": {},
   "outputs": [
    {
     "data": {
      "text/plain": [
       "previous_year_rating\n",
       "1.0    60.064760\n",
       "2.0    61.924024\n",
       "3.0    64.045423\n",
       "4.0    64.119773\n",
       "5.0    63.781364\n",
       "Name: avg_training_score, dtype: float64"
      ]
     },
     "execution_count": 71,
     "metadata": {},
     "output_type": "execute_result"
    }
   ],
   "source": [
    "#performing hypothesis testing using one way anova\n",
    "\n",
    "trainhr_EDA.avg_training_score.groupby(trainhr_EDA.previous_year_rating).mean()"
   ]
  },
  {
   "cell_type": "code",
   "execution_count": 72,
   "id": "958c3167",
   "metadata": {},
   "outputs": [],
   "source": [
    "ones=trainhr_EDA[trainhr_EDA.previous_year_rating==1.0]\n",
    "two=trainhr_EDA[trainhr_EDA.previous_year_rating==2.0]\n",
    "three=trainhr_EDA[trainhr_EDA.previous_year_rating==3.0]\n",
    "four=trainhr_EDA[trainhr_EDA.previous_year_rating==4.0]\n",
    "five=trainhr_EDA[trainhr_EDA.previous_year_rating==5.0]"
   ]
  },
  {
   "cell_type": "code",
   "execution_count": 73,
   "id": "5340d5a1",
   "metadata": {},
   "outputs": [],
   "source": [
    "from scipy.stats import f_oneway #importing the f_oneway for hypothesis testing."
   ]
  },
  {
   "cell_type": "code",
   "execution_count": 74,
   "id": "9aa0ff26",
   "metadata": {},
   "outputs": [
    {
     "data": {
      "text/plain": [
       "F_onewayResult(statistic=133.71725352260415, pvalue=6.957044805766572e-114)"
      ]
     },
     "execution_count": 74,
     "metadata": {},
     "output_type": "execute_result"
    }
   ],
   "source": [
    "#Hypothesis testing is to find if there is a significant difference between previous_year_rating and avg_training_score\n",
    "\n",
    "f_oneway(ones.avg_training_score,two.avg_training_score,three.avg_training_score,\n",
    "         four.avg_training_score,five.avg_training_score)\n",
    "\n",
    "#since pvalue=6.957044805766572e-114) is lessthan 0.05,reject null\n",
    "\n",
    "#Alternative Hypothesis True, There is significant difference between previous_year_rating and avg_training_score"
   ]
  },
  {
   "cell_type": "code",
   "execution_count": 75,
   "id": "13f6ad7a",
   "metadata": {},
   "outputs": [
    {
     "data": {
      "text/plain": [
       "F_onewayResult(statistic=145.83450031447595, pvalue=2.89045896511553e-124)"
      ]
     },
     "execution_count": 75,
     "metadata": {},
     "output_type": "execute_result"
    }
   ],
   "source": [
    "#Hypothesis testing is to find if there is a significant difference between previous_year_rating and length_of_service\n",
    "\n",
    "\n",
    "f_oneway(ones.length_of_service,two.length_of_service,three.length_of_service,\n",
    "         four.length_of_service,five.length_of_service)\n",
    "\n",
    "#since pvalue=2.89045896511553e-124 is lessthan 0.05,reject null\n",
    "\n",
    "#Alternative Hypothesis True, There is significant difference between previous_year_rating and length_of_service"
   ]
  },
  {
   "cell_type": "code",
   "execution_count": 76,
   "id": "d16ccbee",
   "metadata": {},
   "outputs": [],
   "source": [
    "#To find the relationship between two categorical we are doing chi2 test of hypothesis\n",
    "\n",
    "from scipy.stats import chi2_contingency"
   ]
  },
  {
   "cell_type": "markdown",
   "id": "7a09f768",
   "metadata": {},
   "source": [
    "Null hypothesis - There is no relationship between the two given variables. (p-values greater than 0.05)\n",
    "\n",
    "Alternative Hypothesis - There is significant difference between the two given variables.(p-values less than 0.05)"
   ]
  },
  {
   "cell_type": "code",
   "execution_count": 77,
   "id": "ffc603fb",
   "metadata": {},
   "outputs": [
    {
     "data": {
      "text/plain": [
       "Chi2ContingencyResult(statistic=6.677254566546107, pvalue=0.009765091521176657, dof=1, expected_freq=array([[14922.70617428, 35217.29382572],\n",
       "       [ 1389.29382572,  3278.70617428]]))"
      ]
     },
     "execution_count": 77,
     "metadata": {},
     "output_type": "execute_result"
    }
   ],
   "source": [
    "chi2_contingency(pd.crosstab(trainhr_EDA.is_promoted,trainhr_EDA.gender))\n",
    "\n",
    "#since pvalue=0.009765091521176657 is lessthan 0.05,reject null\n",
    "\n",
    "#Alternative Hypothesis True, There is significant difference between the is_promoted and gender"
   ]
  },
  {
   "cell_type": "code",
   "execution_count": 78,
   "id": "054230b6",
   "metadata": {},
   "outputs": [
    {
     "data": {
      "text/plain": [
       "Chi2ContingencyResult(statistic=2689.3220548467057, pvalue=0.0, dof=1, expected_freq=array([[32492.01539921,  3024.98460079],\n",
       "       [17647.98460079,  1643.01539921]]))"
      ]
     },
     "execution_count": 78,
     "metadata": {},
     "output_type": "execute_result"
    }
   ],
   "source": [
    "chi2_contingency(pd.crosstab(trainhr_EDA['KPIs_met >80%'],trainhr_EDA.is_promoted))\n",
    "\n",
    "#since pvalue=0.0 is lessthan 0.05,reject null\n",
    "\n",
    "#Alternative Hypothesis True, There is significant difference between the is_promoted and KPIs_met >80%"
   ]
  },
  {
   "cell_type": "code",
   "execution_count": 79,
   "id": "52e40547",
   "metadata": {},
   "outputs": [
    {
     "data": {
      "text/plain": [
       "Chi2ContingencyResult(statistic=2098.0719210465427, pvalue=0.0, dof=1, expected_freq=array([[48978.16596117,  1161.83403883],\n",
       "       [ 4559.83403883,   108.16596117]]))"
      ]
     },
     "execution_count": 79,
     "metadata": {},
     "output_type": "execute_result"
    }
   ],
   "source": [
    "chi2_contingency(pd.crosstab(trainhr_EDA.is_promoted,trainhr_EDA['awards_won?']))\n",
    "\n",
    "#since pvalue=0.0 is lessthan 0.05,reject null\n",
    "\n",
    "#Alternative Hypothesis True, There is significant difference between the is_promoted and awards_won?"
   ]
  },
  {
   "cell_type": "markdown",
   "id": "6aab807f",
   "metadata": {},
   "source": [
    "### Splitting trainhr_EDA into X and y for building Machine Learing models "
   ]
  },
  {
   "cell_type": "code",
   "execution_count": 80,
   "id": "2686d9f3",
   "metadata": {},
   "outputs": [],
   "source": [
    "y=trainhr_df.is_promoted\n",
    "X=trainhr_df.drop('is_promoted',axis=1)\n",
    "testhr_df=testhr_df.drop('is_promoted',axis=1)"
   ]
  },
  {
   "cell_type": "code",
   "execution_count": 81,
   "id": "aca176a0",
   "metadata": {},
   "outputs": [
    {
     "data": {
      "text/html": [
       "<div>\n",
       "<style scoped>\n",
       "    .dataframe tbody tr th:only-of-type {\n",
       "        vertical-align: middle;\n",
       "    }\n",
       "\n",
       "    .dataframe tbody tr th {\n",
       "        vertical-align: top;\n",
       "    }\n",
       "\n",
       "    .dataframe thead th {\n",
       "        text-align: right;\n",
       "    }\n",
       "</style>\n",
       "<table border=\"1\" class=\"dataframe\">\n",
       "  <thead>\n",
       "    <tr style=\"text-align: right;\">\n",
       "      <th></th>\n",
       "      <th>age</th>\n",
       "      <th>length_of_service</th>\n",
       "      <th>avg_training_score</th>\n",
       "      <th>department_Analytics</th>\n",
       "      <th>department_Finance</th>\n",
       "      <th>department_HR</th>\n",
       "      <th>department_Legal</th>\n",
       "      <th>department_Operations</th>\n",
       "      <th>department_Procurement</th>\n",
       "      <th>department_R&amp;D</th>\n",
       "      <th>...</th>\n",
       "      <th>no_of_trainings_10</th>\n",
       "      <th>previous_year_rating_1.0</th>\n",
       "      <th>previous_year_rating_2.0</th>\n",
       "      <th>previous_year_rating_3.0</th>\n",
       "      <th>previous_year_rating_4.0</th>\n",
       "      <th>previous_year_rating_5.0</th>\n",
       "      <th>KPIs_met &gt;80%_0</th>\n",
       "      <th>KPIs_met &gt;80%_1</th>\n",
       "      <th>awards_won?_0</th>\n",
       "      <th>awards_won?_1</th>\n",
       "    </tr>\n",
       "  </thead>\n",
       "  <tbody>\n",
       "    <tr>\n",
       "      <th>0</th>\n",
       "      <td>0.375</td>\n",
       "      <td>0.194444</td>\n",
       "      <td>0.166667</td>\n",
       "      <td>0</td>\n",
       "      <td>0</td>\n",
       "      <td>0</td>\n",
       "      <td>0</td>\n",
       "      <td>0</td>\n",
       "      <td>0</td>\n",
       "      <td>0</td>\n",
       "      <td>...</td>\n",
       "      <td>0</td>\n",
       "      <td>0</td>\n",
       "      <td>0</td>\n",
       "      <td>0</td>\n",
       "      <td>0</td>\n",
       "      <td>1</td>\n",
       "      <td>0</td>\n",
       "      <td>1</td>\n",
       "      <td>1</td>\n",
       "      <td>0</td>\n",
       "    </tr>\n",
       "    <tr>\n",
       "      <th>1</th>\n",
       "      <td>0.250</td>\n",
       "      <td>0.083333</td>\n",
       "      <td>0.350000</td>\n",
       "      <td>0</td>\n",
       "      <td>0</td>\n",
       "      <td>0</td>\n",
       "      <td>0</td>\n",
       "      <td>1</td>\n",
       "      <td>0</td>\n",
       "      <td>0</td>\n",
       "      <td>...</td>\n",
       "      <td>0</td>\n",
       "      <td>0</td>\n",
       "      <td>0</td>\n",
       "      <td>0</td>\n",
       "      <td>0</td>\n",
       "      <td>1</td>\n",
       "      <td>1</td>\n",
       "      <td>0</td>\n",
       "      <td>1</td>\n",
       "      <td>0</td>\n",
       "    </tr>\n",
       "    <tr>\n",
       "      <th>2</th>\n",
       "      <td>0.350</td>\n",
       "      <td>0.166667</td>\n",
       "      <td>0.183333</td>\n",
       "      <td>0</td>\n",
       "      <td>0</td>\n",
       "      <td>0</td>\n",
       "      <td>0</td>\n",
       "      <td>0</td>\n",
       "      <td>0</td>\n",
       "      <td>0</td>\n",
       "      <td>...</td>\n",
       "      <td>0</td>\n",
       "      <td>0</td>\n",
       "      <td>0</td>\n",
       "      <td>1</td>\n",
       "      <td>0</td>\n",
       "      <td>0</td>\n",
       "      <td>1</td>\n",
       "      <td>0</td>\n",
       "      <td>1</td>\n",
       "      <td>0</td>\n",
       "    </tr>\n",
       "    <tr>\n",
       "      <th>3</th>\n",
       "      <td>0.475</td>\n",
       "      <td>0.250000</td>\n",
       "      <td>0.183333</td>\n",
       "      <td>0</td>\n",
       "      <td>0</td>\n",
       "      <td>0</td>\n",
       "      <td>0</td>\n",
       "      <td>0</td>\n",
       "      <td>0</td>\n",
       "      <td>0</td>\n",
       "      <td>...</td>\n",
       "      <td>0</td>\n",
       "      <td>1</td>\n",
       "      <td>0</td>\n",
       "      <td>0</td>\n",
       "      <td>0</td>\n",
       "      <td>0</td>\n",
       "      <td>1</td>\n",
       "      <td>0</td>\n",
       "      <td>1</td>\n",
       "      <td>0</td>\n",
       "    </tr>\n",
       "    <tr>\n",
       "      <th>4</th>\n",
       "      <td>0.625</td>\n",
       "      <td>0.027778</td>\n",
       "      <td>0.566667</td>\n",
       "      <td>0</td>\n",
       "      <td>0</td>\n",
       "      <td>0</td>\n",
       "      <td>0</td>\n",
       "      <td>0</td>\n",
       "      <td>0</td>\n",
       "      <td>0</td>\n",
       "      <td>...</td>\n",
       "      <td>0</td>\n",
       "      <td>0</td>\n",
       "      <td>0</td>\n",
       "      <td>1</td>\n",
       "      <td>0</td>\n",
       "      <td>0</td>\n",
       "      <td>1</td>\n",
       "      <td>0</td>\n",
       "      <td>1</td>\n",
       "      <td>0</td>\n",
       "    </tr>\n",
       "  </tbody>\n",
       "</table>\n",
       "<p>5 rows × 73 columns</p>\n",
       "</div>"
      ],
      "text/plain": [
       "     age  length_of_service  avg_training_score  department_Analytics  \\\n",
       "0  0.375           0.194444            0.166667                     0   \n",
       "1  0.250           0.083333            0.350000                     0   \n",
       "2  0.350           0.166667            0.183333                     0   \n",
       "3  0.475           0.250000            0.183333                     0   \n",
       "4  0.625           0.027778            0.566667                     0   \n",
       "\n",
       "   department_Finance  department_HR  department_Legal  department_Operations  \\\n",
       "0                   0              0                 0                      0   \n",
       "1                   0              0                 0                      1   \n",
       "2                   0              0                 0                      0   \n",
       "3                   0              0                 0                      0   \n",
       "4                   0              0                 0                      0   \n",
       "\n",
       "   department_Procurement  department_R&D  ...  no_of_trainings_10  \\\n",
       "0                       0               0  ...                   0   \n",
       "1                       0               0  ...                   0   \n",
       "2                       0               0  ...                   0   \n",
       "3                       0               0  ...                   0   \n",
       "4                       0               0  ...                   0   \n",
       "\n",
       "   previous_year_rating_1.0  previous_year_rating_2.0  \\\n",
       "0                         0                         0   \n",
       "1                         0                         0   \n",
       "2                         0                         0   \n",
       "3                         1                         0   \n",
       "4                         0                         0   \n",
       "\n",
       "   previous_year_rating_3.0  previous_year_rating_4.0  \\\n",
       "0                         0                         0   \n",
       "1                         0                         0   \n",
       "2                         1                         0   \n",
       "3                         0                         0   \n",
       "4                         1                         0   \n",
       "\n",
       "   previous_year_rating_5.0  KPIs_met >80%_0  KPIs_met >80%_1  awards_won?_0  \\\n",
       "0                         1                0                1              1   \n",
       "1                         1                1                0              1   \n",
       "2                         0                1                0              1   \n",
       "3                         0                1                0              1   \n",
       "4                         0                1                0              1   \n",
       "\n",
       "   awards_won?_1  \n",
       "0              0  \n",
       "1              0  \n",
       "2              0  \n",
       "3              0  \n",
       "4              0  \n",
       "\n",
       "[5 rows x 73 columns]"
      ]
     },
     "execution_count": 81,
     "metadata": {},
     "output_type": "execute_result"
    }
   ],
   "source": [
    "X.head()"
   ]
  },
  {
   "cell_type": "code",
   "execution_count": 82,
   "id": "aca79d72",
   "metadata": {},
   "outputs": [],
   "source": [
    "# we using the labelencoder for dependent variable(y), to change dependent variable to 0's and 1's\n",
    "\n",
    "from sklearn.preprocessing import LabelEncoder"
   ]
  },
  {
   "cell_type": "code",
   "execution_count": 83,
   "id": "cfbee64f",
   "metadata": {},
   "outputs": [],
   "source": [
    "y=LabelEncoder().fit_transform(y)"
   ]
  },
  {
   "cell_type": "code",
   "execution_count": 84,
   "id": "22ac0279",
   "metadata": {},
   "outputs": [
    {
     "data": {
      "text/plain": [
       "<Axes: xlabel='is_promoted'>"
      ]
     },
     "execution_count": 84,
     "metadata": {},
     "output_type": "execute_result"
    },
    {
     "data": {
      "image/png": "[encoded data removed]",
      "text/plain": [
       "<Figure size 640x480 with 1 Axes>"
      ]
     },
     "metadata": {},
     "output_type": "display_data"
    }
   ],
   "source": [
    "trainhr_df.is_promoted.value_counts().plot(kind='bar')"
   ]
  },
  {
   "cell_type": "code",
   "execution_count": 85,
   "id": "2472757e",
   "metadata": {},
   "outputs": [
    {
     "name": "stdout",
     "output_type": "stream",
     "text": [
      "Requirement already satisfied: smote in d:\\anaconda\\lib\\site-packages (0.1)\n",
      "Requirement already satisfied: numpy>=1.14.3 in d:\\anaconda\\lib\\site-packages (from smote) (1.24.3)\n",
      "Requirement already satisfied: scikit-learn>=0.19.1 in d:\\anaconda\\lib\\site-packages (from smote) (1.2.2)\n",
      "Requirement already satisfied: scipy>=1.3.2 in d:\\anaconda\\lib\\site-packages (from scikit-learn>=0.19.1->smote) (1.11.1)\n",
      "Requirement already satisfied: joblib>=1.1.1 in d:\\anaconda\\lib\\site-packages (from scikit-learn>=0.19.1->smote) (1.2.0)\n",
      "Requirement already satisfied: threadpoolctl>=2.0.0 in d:\\anaconda\\lib\\site-packages (from scikit-learn>=0.19.1->smote) (2.2.0)\n"
     ]
    }
   ],
   "source": [
    "!pip install smote"
   ]
  },
  {
   "cell_type": "code",
   "execution_count": 86,
   "id": "e07b35c7",
   "metadata": {},
   "outputs": [],
   "source": [
    "from imblearn.over_sampling import SMOTE # importing the smote as the data is been oversampled\n",
    "\n",
    "oversample = SMOTE()\n",
    "X, y = oversample.fit_resample(X, y)"
   ]
  },
  {
   "cell_type": "code",
   "execution_count": 87,
   "id": "64793f94",
   "metadata": {},
   "outputs": [],
   "source": [
    "#pip uninstall scikit-learn"
   ]
  },
  {
   "cell_type": "code",
   "execution_count": 88,
   "id": "8f0e7249",
   "metadata": {},
   "outputs": [],
   "source": [
    "#!pip install scikit-learn==1.2.2"
   ]
  },
  {
   "cell_type": "markdown",
   "id": "55c00ec4",
   "metadata": {},
   "source": [
    "# Logistice Regression"
   ]
  },
  {
   "cell_type": "code",
   "execution_count": 89,
   "id": "cfa8565a",
   "metadata": {},
   "outputs": [],
   "source": [
    "from sklearn.linear_model import LogisticRegression"
   ]
  },
  {
   "cell_type": "code",
   "execution_count": 90,
   "id": "748d7fe1",
   "metadata": {},
   "outputs": [],
   "source": [
    "logit=LogisticRegression(max_iter=5000)"
   ]
  },
  {
   "cell_type": "code",
   "execution_count": 91,
   "id": "efb5c476",
   "metadata": {},
   "outputs": [],
   "source": [
    "logitmodel=logit.fit(X,y)"
   ]
  },
  {
   "cell_type": "code",
   "execution_count": 92,
   "id": "08228824",
   "metadata": {},
   "outputs": [
    {
     "data": {
      "text/plain": [
       "0.9005684084563222"
      ]
     },
     "execution_count": 92,
     "metadata": {},
     "output_type": "execute_result"
    }
   ],
   "source": [
    "logitmodel.score(X,y)"
   ]
  },
  {
   "cell_type": "code",
   "execution_count": 93,
   "id": "be929f97",
   "metadata": {},
   "outputs": [],
   "source": [
    "logitpredict=logitmodel.predict(X)"
   ]
  },
  {
   "cell_type": "code",
   "execution_count": 94,
   "id": "00a8442b",
   "metadata": {},
   "outputs": [
    {
     "data": {
      "text/html": [
       "<div>\n",
       "<style scoped>\n",
       "    .dataframe tbody tr th:only-of-type {\n",
       "        vertical-align: middle;\n",
       "    }\n",
       "\n",
       "    .dataframe tbody tr th {\n",
       "        vertical-align: top;\n",
       "    }\n",
       "\n",
       "    .dataframe thead th {\n",
       "        text-align: right;\n",
       "    }\n",
       "</style>\n",
       "<table border=\"1\" class=\"dataframe\">\n",
       "  <thead>\n",
       "    <tr style=\"text-align: right;\">\n",
       "      <th>col_0</th>\n",
       "      <th>0</th>\n",
       "      <th>1</th>\n",
       "    </tr>\n",
       "    <tr>\n",
       "      <th>row_0</th>\n",
       "      <th></th>\n",
       "      <th></th>\n",
       "    </tr>\n",
       "  </thead>\n",
       "  <tbody>\n",
       "    <tr>\n",
       "      <th>0</th>\n",
       "      <td>46158</td>\n",
       "      <td>3982</td>\n",
       "    </tr>\n",
       "    <tr>\n",
       "      <th>1</th>\n",
       "      <td>5989</td>\n",
       "      <td>44151</td>\n",
       "    </tr>\n",
       "  </tbody>\n",
       "</table>\n",
       "</div>"
      ],
      "text/plain": [
       "col_0      0      1\n",
       "row_0              \n",
       "0      46158   3982\n",
       "1       5989  44151"
      ]
     },
     "execution_count": 94,
     "metadata": {},
     "output_type": "execute_result"
    }
   ],
   "source": [
    "pd.crosstab(y,logitpredict)"
   ]
  },
  {
   "cell_type": "code",
   "execution_count": 95,
   "id": "1ea75908",
   "metadata": {},
   "outputs": [],
   "source": [
    "from sklearn.metrics import classification_report,RocCurveDisplay\n",
    "from sklearn.model_selection import cross_val_score"
   ]
  },
  {
   "cell_type": "code",
   "execution_count": 96,
   "id": "1717b796",
   "metadata": {},
   "outputs": [
    {
     "name": "stdout",
     "output_type": "stream",
     "text": [
      "              precision    recall  f1-score   support\n",
      "\n",
      "           0       0.89      0.92      0.90     50140\n",
      "           1       0.92      0.88      0.90     50140\n",
      "\n",
      "    accuracy                           0.90    100280\n",
      "   macro avg       0.90      0.90      0.90    100280\n",
      "weighted avg       0.90      0.90      0.90    100280\n",
      "\n"
     ]
    }
   ],
   "source": [
    "print(classification_report(y,logitpredict))"
   ]
  },
  {
   "cell_type": "code",
   "execution_count": 97,
   "id": "6963211e",
   "metadata": {},
   "outputs": [
    {
     "data": {
      "text/plain": [
       "<sklearn.metrics._plot.roc_curve.RocCurveDisplay at 0x211af8f6c10>"
      ]
     },
     "execution_count": 97,
     "metadata": {},
     "output_type": "execute_result"
    },
    {
     "data": {
      "image/png": "[encoded data removed]",
      "text/plain": [
       "<Figure size 640x480 with 1 Axes>"
      ]
     },
     "metadata": {},
     "output_type": "display_data"
    }
   ],
   "source": [
    "RocCurveDisplay.from_predictions(y,logitpredict)"
   ]
  },
  {
   "cell_type": "code",
   "execution_count": 98,
   "id": "a7ab9109",
   "metadata": {
    "scrolled": false
   },
   "outputs": [
    {
     "data": {
      "text/plain": [
       "array([0.79751695, 0.92037296, 0.91982449, 0.92022337, 0.91827882])"
      ]
     },
     "execution_count": 98,
     "metadata": {},
     "output_type": "execute_result"
    }
   ],
   "source": [
    "cross_val_score(logit,X,y)"
   ]
  },
  {
   "cell_type": "code",
   "execution_count": 199,
   "id": "6d274069",
   "metadata": {},
   "outputs": [
    {
     "data": {
      "text/plain": [
       "0.895243318"
      ]
     },
     "execution_count": 199,
     "metadata": {},
     "output_type": "execute_result"
    }
   ],
   "source": [
    "np.mean([0.79751695, 0.92037296, 0.91982449, 0.92022337, 0.91827882])"
   ]
  },
  {
   "cell_type": "code",
   "execution_count": 100,
   "id": "51a05b08",
   "metadata": {},
   "outputs": [],
   "source": [
    "logittest=logitmodel.predict(testhr_df)"
   ]
  },
  {
   "cell_type": "code",
   "execution_count": 101,
   "id": "470694f0",
   "metadata": {},
   "outputs": [],
   "source": [
    "pd.DataFrame(logittest).to_csv(\"Logit.csv\")"
   ]
  },
  {
   "cell_type": "markdown",
   "id": "c2cb98bb",
   "metadata": {},
   "source": [
    "# Decission Tree"
   ]
  },
  {
   "cell_type": "code",
   "execution_count": 102,
   "id": "45b2f14f",
   "metadata": {},
   "outputs": [],
   "source": [
    "from sklearn.tree import DecisionTreeClassifier"
   ]
  },
  {
   "cell_type": "code",
   "execution_count": 103,
   "id": "162a2216",
   "metadata": {},
   "outputs": [],
   "source": [
    "tree=DecisionTreeClassifier(max_depth=10)"
   ]
  },
  {
   "cell_type": "code",
   "execution_count": 104,
   "id": "9c2ab142",
   "metadata": {},
   "outputs": [],
   "source": [
    "treemodel=tree.fit(X,y)"
   ]
  },
  {
   "cell_type": "code",
   "execution_count": 105,
   "id": "882a5c56",
   "metadata": {},
   "outputs": [
    {
     "data": {
      "text/plain": [
       "0.8666932588751496"
      ]
     },
     "execution_count": 105,
     "metadata": {},
     "output_type": "execute_result"
    }
   ],
   "source": [
    "treemodel.score(X,y)"
   ]
  },
  {
   "cell_type": "code",
   "execution_count": 106,
   "id": "4b1984e1",
   "metadata": {},
   "outputs": [],
   "source": [
    "treepredict=treemodel.predict(X)"
   ]
  },
  {
   "cell_type": "code",
   "execution_count": 107,
   "id": "a3f4eef2",
   "metadata": {},
   "outputs": [
    {
     "data": {
      "text/html": [
       "<div>\n",
       "<style scoped>\n",
       "    .dataframe tbody tr th:only-of-type {\n",
       "        vertical-align: middle;\n",
       "    }\n",
       "\n",
       "    .dataframe tbody tr th {\n",
       "        vertical-align: top;\n",
       "    }\n",
       "\n",
       "    .dataframe thead th {\n",
       "        text-align: right;\n",
       "    }\n",
       "</style>\n",
       "<table border=\"1\" class=\"dataframe\">\n",
       "  <thead>\n",
       "    <tr style=\"text-align: right;\">\n",
       "      <th>col_0</th>\n",
       "      <th>0</th>\n",
       "      <th>1</th>\n",
       "    </tr>\n",
       "    <tr>\n",
       "      <th>row_0</th>\n",
       "      <th></th>\n",
       "      <th></th>\n",
       "    </tr>\n",
       "  </thead>\n",
       "  <tbody>\n",
       "    <tr>\n",
       "      <th>0</th>\n",
       "      <td>43752</td>\n",
       "      <td>6388</td>\n",
       "    </tr>\n",
       "    <tr>\n",
       "      <th>1</th>\n",
       "      <td>6980</td>\n",
       "      <td>43160</td>\n",
       "    </tr>\n",
       "  </tbody>\n",
       "</table>\n",
       "</div>"
      ],
      "text/plain": [
       "col_0      0      1\n",
       "row_0              \n",
       "0      43752   6388\n",
       "1       6980  43160"
      ]
     },
     "execution_count": 107,
     "metadata": {},
     "output_type": "execute_result"
    }
   ],
   "source": [
    "pd.crosstab(y,treepredict)"
   ]
  },
  {
   "cell_type": "code",
   "execution_count": 108,
   "id": "d939f834",
   "metadata": {},
   "outputs": [
    {
     "name": "stdout",
     "output_type": "stream",
     "text": [
      "              precision    recall  f1-score   support\n",
      "\n",
      "           0       0.86      0.87      0.87     50140\n",
      "           1       0.87      0.86      0.87     50140\n",
      "\n",
      "    accuracy                           0.87    100280\n",
      "   macro avg       0.87      0.87      0.87    100280\n",
      "weighted avg       0.87      0.87      0.87    100280\n",
      "\n"
     ]
    }
   ],
   "source": [
    "print(classification_report(y,treepredict))"
   ]
  },
  {
   "cell_type": "code",
   "execution_count": 109,
   "id": "811e885e",
   "metadata": {},
   "outputs": [
    {
     "data": {
      "text/plain": [
       "<sklearn.metrics._plot.roc_curve.RocCurveDisplay at 0x211afd8f290>"
      ]
     },
     "execution_count": 109,
     "metadata": {},
     "output_type": "execute_result"
    },
    {
     "data": {
      "image/png": "[encoded data removed]",
      "text/plain": [
       "<Figure size 640x480 with 1 Axes>"
      ]
     },
     "metadata": {},
     "output_type": "display_data"
    }
   ],
   "source": [
    "RocCurveDisplay.from_predictions(y,treepredict)"
   ]
  },
  {
   "cell_type": "code",
   "execution_count": 110,
   "id": "1a4fdb81",
   "metadata": {},
   "outputs": [
    {
     "data": {
      "text/plain": [
       "array([0.8183586 , 0.87799162, 0.87370363, 0.8752493 , 0.87943757])"
      ]
     },
     "execution_count": 110,
     "metadata": {},
     "output_type": "execute_result"
    }
   ],
   "source": [
    "cross_val_score(tree,X,y)"
   ]
  },
  {
   "cell_type": "code",
   "execution_count": 200,
   "id": "ded809ad",
   "metadata": {},
   "outputs": [
    {
     "data": {
      "text/plain": [
       "0.8649481440000001"
      ]
     },
     "execution_count": 200,
     "metadata": {},
     "output_type": "execute_result"
    }
   ],
   "source": [
    "np.mean([0.8183586 , 0.87799162, 0.87370363, 0.8752493 , 0.87943757])"
   ]
  },
  {
   "cell_type": "code",
   "execution_count": 112,
   "id": "341c8fa8",
   "metadata": {},
   "outputs": [],
   "source": [
    "treetest=treemodel.predict(testhr_df)"
   ]
  },
  {
   "cell_type": "code",
   "execution_count": 113,
   "id": "a1b98c42",
   "metadata": {},
   "outputs": [],
   "source": [
    "pd.DataFrame(treetest).to_csv('tree1.csv')"
   ]
  },
  {
   "cell_type": "markdown",
   "id": "08922073",
   "metadata": {},
   "source": [
    "# Random Forest"
   ]
  },
  {
   "cell_type": "code",
   "execution_count": 114,
   "id": "77757d36",
   "metadata": {},
   "outputs": [],
   "source": [
    "from sklearn.ensemble import RandomForestClassifier"
   ]
  },
  {
   "cell_type": "code",
   "execution_count": 115,
   "id": "46e20fd1",
   "metadata": {},
   "outputs": [],
   "source": [
    "RF=RandomForestClassifier(max_depth=5,n_estimators=500)"
   ]
  },
  {
   "cell_type": "code",
   "execution_count": 116,
   "id": "1bdb0f0e",
   "metadata": {},
   "outputs": [],
   "source": [
    "RFmodel=RF.fit(X,y)"
   ]
  },
  {
   "cell_type": "code",
   "execution_count": 117,
   "id": "ae4c2d95",
   "metadata": {},
   "outputs": [
    {
     "data": {
      "text/plain": [
       "0.7651575588352613"
      ]
     },
     "execution_count": 117,
     "metadata": {},
     "output_type": "execute_result"
    }
   ],
   "source": [
    "RFmodel.score(X,y)"
   ]
  },
  {
   "cell_type": "code",
   "execution_count": 118,
   "id": "a845341b",
   "metadata": {},
   "outputs": [],
   "source": [
    "Ranpredict=RFmodel.predict(X)"
   ]
  },
  {
   "cell_type": "code",
   "execution_count": 119,
   "id": "c1f4297d",
   "metadata": {},
   "outputs": [
    {
     "data": {
      "text/html": [
       "<div>\n",
       "<style scoped>\n",
       "    .dataframe tbody tr th:only-of-type {\n",
       "        vertical-align: middle;\n",
       "    }\n",
       "\n",
       "    .dataframe tbody tr th {\n",
       "        vertical-align: top;\n",
       "    }\n",
       "\n",
       "    .dataframe thead th {\n",
       "        text-align: right;\n",
       "    }\n",
       "</style>\n",
       "<table border=\"1\" class=\"dataframe\">\n",
       "  <thead>\n",
       "    <tr style=\"text-align: right;\">\n",
       "      <th>col_0</th>\n",
       "      <th>0</th>\n",
       "      <th>1</th>\n",
       "    </tr>\n",
       "    <tr>\n",
       "      <th>row_0</th>\n",
       "      <th></th>\n",
       "      <th></th>\n",
       "    </tr>\n",
       "  </thead>\n",
       "  <tbody>\n",
       "    <tr>\n",
       "      <th>0</th>\n",
       "      <td>34192</td>\n",
       "      <td>15948</td>\n",
       "    </tr>\n",
       "    <tr>\n",
       "      <th>1</th>\n",
       "      <td>7602</td>\n",
       "      <td>42538</td>\n",
       "    </tr>\n",
       "  </tbody>\n",
       "</table>\n",
       "</div>"
      ],
      "text/plain": [
       "col_0      0      1\n",
       "row_0              \n",
       "0      34192  15948\n",
       "1       7602  42538"
      ]
     },
     "execution_count": 119,
     "metadata": {},
     "output_type": "execute_result"
    }
   ],
   "source": [
    "pd.crosstab(y,Ranpredict)"
   ]
  },
  {
   "cell_type": "code",
   "execution_count": 120,
   "id": "231cf20a",
   "metadata": {},
   "outputs": [
    {
     "name": "stdout",
     "output_type": "stream",
     "text": [
      "              precision    recall  f1-score   support\n",
      "\n",
      "           0       0.82      0.68      0.74     50140\n",
      "           1       0.73      0.85      0.78     50140\n",
      "\n",
      "    accuracy                           0.77    100280\n",
      "   macro avg       0.77      0.77      0.76    100280\n",
      "weighted avg       0.77      0.77      0.76    100280\n",
      "\n"
     ]
    }
   ],
   "source": [
    "print(classification_report(y,Ranpredict))"
   ]
  },
  {
   "cell_type": "code",
   "execution_count": 121,
   "id": "4c88fdf9",
   "metadata": {},
   "outputs": [
    {
     "data": {
      "text/plain": [
       "<sklearn.metrics._plot.roc_curve.RocCurveDisplay at 0x211afe69bd0>"
      ]
     },
     "execution_count": 121,
     "metadata": {},
     "output_type": "execute_result"
    },
    {
     "data": {
      "image/png": "[encoded data removed]",
      "text/plain": [
       "<Figure size 640x480 with 1 Axes>"
      ]
     },
     "metadata": {},
     "output_type": "display_data"
    }
   ],
   "source": [
    "RocCurveDisplay.from_predictions(y,Ranpredict)"
   ]
  },
  {
   "cell_type": "code",
   "execution_count": 122,
   "id": "4617bfaa",
   "metadata": {},
   "outputs": [
    {
     "data": {
      "text/plain": [
       "array([0.75882529, 0.76735142, 0.75897487, 0.76391105, 0.7727862 ])"
      ]
     },
     "execution_count": 122,
     "metadata": {},
     "output_type": "execute_result"
    }
   ],
   "source": [
    "cross_val_score(RF,X,y)"
   ]
  },
  {
   "cell_type": "code",
   "execution_count": 201,
   "id": "78b8d23b",
   "metadata": {},
   "outputs": [
    {
     "data": {
      "text/plain": [
       "0.764369766"
      ]
     },
     "execution_count": 201,
     "metadata": {},
     "output_type": "execute_result"
    }
   ],
   "source": [
    "np.mean([0.75882529, 0.76735142, 0.75897487, 0.76391105, 0.7727862])"
   ]
  },
  {
   "cell_type": "code",
   "execution_count": 124,
   "id": "63d08b4e",
   "metadata": {},
   "outputs": [],
   "source": [
    "RFpredict=RFmodel.predict(testhr_df)"
   ]
  },
  {
   "cell_type": "code",
   "execution_count": 125,
   "id": "4eba1b5c",
   "metadata": {},
   "outputs": [],
   "source": [
    "pd.DataFrame(RFpredict).to_csv('RF.csv')"
   ]
  },
  {
   "cell_type": "markdown",
   "id": "7a4a24b2",
   "metadata": {},
   "source": [
    "# Gradient Boosting Machine"
   ]
  },
  {
   "cell_type": "code",
   "execution_count": 126,
   "id": "bfabc84c",
   "metadata": {},
   "outputs": [],
   "source": [
    "from sklearn.ensemble import GradientBoostingClassifier"
   ]
  },
  {
   "cell_type": "code",
   "execution_count": 187,
   "id": "d6d1beda",
   "metadata": {},
   "outputs": [],
   "source": [
    "gbc=GradientBoostingClassifier(max_depth=4,n_estimators=300)"
   ]
  },
  {
   "cell_type": "code",
   "execution_count": 188,
   "id": "9b7b0d09",
   "metadata": {},
   "outputs": [],
   "source": [
    "gbcmodel=gbc.fit(X,y)"
   ]
  },
  {
   "cell_type": "code",
   "execution_count": 189,
   "id": "13adb4fb",
   "metadata": {},
   "outputs": [
    {
     "data": {
      "text/plain": [
       "0.9535500598324691"
      ]
     },
     "execution_count": 189,
     "metadata": {},
     "output_type": "execute_result"
    }
   ],
   "source": [
    "gbcmodel.score(X,y)"
   ]
  },
  {
   "cell_type": "code",
   "execution_count": 190,
   "id": "a53fa9e6",
   "metadata": {},
   "outputs": [],
   "source": [
    "gbcpredict=gbcmodel.predict(X)"
   ]
  },
  {
   "cell_type": "code",
   "execution_count": 191,
   "id": "023f69da",
   "metadata": {},
   "outputs": [
    {
     "data": {
      "text/html": [
       "<div>\n",
       "<style scoped>\n",
       "    .dataframe tbody tr th:only-of-type {\n",
       "        vertical-align: middle;\n",
       "    }\n",
       "\n",
       "    .dataframe tbody tr th {\n",
       "        vertical-align: top;\n",
       "    }\n",
       "\n",
       "    .dataframe thead th {\n",
       "        text-align: right;\n",
       "    }\n",
       "</style>\n",
       "<table border=\"1\" class=\"dataframe\">\n",
       "  <thead>\n",
       "    <tr style=\"text-align: right;\">\n",
       "      <th>col_0</th>\n",
       "      <th>0</th>\n",
       "      <th>1</th>\n",
       "    </tr>\n",
       "    <tr>\n",
       "      <th>row_0</th>\n",
       "      <th></th>\n",
       "      <th></th>\n",
       "    </tr>\n",
       "  </thead>\n",
       "  <tbody>\n",
       "    <tr>\n",
       "      <th>0</th>\n",
       "      <td>48767</td>\n",
       "      <td>1373</td>\n",
       "    </tr>\n",
       "    <tr>\n",
       "      <th>1</th>\n",
       "      <td>3285</td>\n",
       "      <td>46855</td>\n",
       "    </tr>\n",
       "  </tbody>\n",
       "</table>\n",
       "</div>"
      ],
      "text/plain": [
       "col_0      0      1\n",
       "row_0              \n",
       "0      48767   1373\n",
       "1       3285  46855"
      ]
     },
     "execution_count": 191,
     "metadata": {},
     "output_type": "execute_result"
    }
   ],
   "source": [
    "pd.crosstab(y,gbcpredict)"
   ]
  },
  {
   "cell_type": "code",
   "execution_count": 192,
   "id": "8da448f1",
   "metadata": {},
   "outputs": [
    {
     "name": "stdout",
     "output_type": "stream",
     "text": [
      "              precision    recall  f1-score   support\n",
      "\n",
      "           0       0.94      0.97      0.95     50140\n",
      "           1       0.97      0.93      0.95     50140\n",
      "\n",
      "    accuracy                           0.95    100280\n",
      "   macro avg       0.95      0.95      0.95    100280\n",
      "weighted avg       0.95      0.95      0.95    100280\n",
      "\n"
     ]
    }
   ],
   "source": [
    "print(classification_report(y,gbcpredict))"
   ]
  },
  {
   "cell_type": "code",
   "execution_count": 193,
   "id": "e96c07d1",
   "metadata": {},
   "outputs": [
    {
     "data": {
      "text/plain": [
       "<sklearn.metrics._plot.roc_curve.RocCurveDisplay at 0x2119ef4ac50>"
      ]
     },
     "execution_count": 193,
     "metadata": {},
     "output_type": "execute_result"
    },
    {
     "data": {
      "image/png": "[encoded data removed]",
      "text/plain": [
       "<Figure size 640x480 with 1 Axes>"
      ]
     },
     "metadata": {},
     "output_type": "display_data"
    }
   ],
   "source": [
    "RocCurveDisplay.from_predictions(y,gbcpredict)"
   ]
  },
  {
   "cell_type": "code",
   "execution_count": 194,
   "id": "c6e34f9c",
   "metadata": {},
   "outputs": [
    {
     "data": {
      "text/plain": [
       "array([0.8313223 , 0.96619465, 0.97656562, 0.97372357, 0.96993418])"
      ]
     },
     "execution_count": 194,
     "metadata": {},
     "output_type": "execute_result"
    }
   ],
   "source": [
    "cross_val_score(gbc,X,y)"
   ]
  },
  {
   "cell_type": "code",
   "execution_count": 198,
   "id": "428cd85c",
   "metadata": {},
   "outputs": [
    {
     "data": {
      "text/plain": [
       "0.943548064"
      ]
     },
     "execution_count": 198,
     "metadata": {},
     "output_type": "execute_result"
    }
   ],
   "source": [
    "np.mean([0.8313223 , 0.96619465, 0.97656562, 0.97372357, 0.96993418])"
   ]
  },
  {
   "cell_type": "code",
   "execution_count": 196,
   "id": "c8ea4e14",
   "metadata": {},
   "outputs": [],
   "source": [
    "gbcpredict=gbcmodel.predict(testhr_df)"
   ]
  },
  {
   "cell_type": "code",
   "execution_count": 197,
   "id": "3fd3aeae",
   "metadata": {},
   "outputs": [],
   "source": [
    "pd.DataFrame(gbcpredict).to_csv('gbc.csv')"
   ]
  },
  {
   "cell_type": "markdown",
   "id": "743b4fab",
   "metadata": {},
   "source": [
    "# Naive Bayes"
   ]
  },
  {
   "cell_type": "code",
   "execution_count": 138,
   "id": "ca4c0c48",
   "metadata": {},
   "outputs": [],
   "source": [
    "from sklearn.naive_bayes import MultinomialNB"
   ]
  },
  {
   "cell_type": "code",
   "execution_count": 139,
   "id": "3d0d356e",
   "metadata": {},
   "outputs": [],
   "source": [
    "mul=MultinomialNB()"
   ]
  },
  {
   "cell_type": "code",
   "execution_count": 140,
   "id": "e70c0fa2",
   "metadata": {},
   "outputs": [],
   "source": [
    "mulmodel=mul.fit(X,y)"
   ]
  },
  {
   "cell_type": "code",
   "execution_count": 141,
   "id": "8b691f07",
   "metadata": {},
   "outputs": [
    {
     "data": {
      "text/plain": [
       "0.7637814120462705"
      ]
     },
     "execution_count": 141,
     "metadata": {},
     "output_type": "execute_result"
    }
   ],
   "source": [
    "mulmodel.score(X,y)"
   ]
  },
  {
   "cell_type": "code",
   "execution_count": 142,
   "id": "062c4a3b",
   "metadata": {},
   "outputs": [],
   "source": [
    "mulpredict=mulmodel.predict(X)"
   ]
  },
  {
   "cell_type": "code",
   "execution_count": 143,
   "id": "9432dc0d",
   "metadata": {},
   "outputs": [
    {
     "data": {
      "text/html": [
       "<div>\n",
       "<style scoped>\n",
       "    .dataframe tbody tr th:only-of-type {\n",
       "        vertical-align: middle;\n",
       "    }\n",
       "\n",
       "    .dataframe tbody tr th {\n",
       "        vertical-align: top;\n",
       "    }\n",
       "\n",
       "    .dataframe thead th {\n",
       "        text-align: right;\n",
       "    }\n",
       "</style>\n",
       "<table border=\"1\" class=\"dataframe\">\n",
       "  <thead>\n",
       "    <tr style=\"text-align: right;\">\n",
       "      <th>col_0</th>\n",
       "      <th>0</th>\n",
       "      <th>1</th>\n",
       "    </tr>\n",
       "    <tr>\n",
       "      <th>row_0</th>\n",
       "      <th></th>\n",
       "      <th></th>\n",
       "    </tr>\n",
       "  </thead>\n",
       "  <tbody>\n",
       "    <tr>\n",
       "      <th>0</th>\n",
       "      <td>37442</td>\n",
       "      <td>12698</td>\n",
       "    </tr>\n",
       "    <tr>\n",
       "      <th>1</th>\n",
       "      <td>10990</td>\n",
       "      <td>39150</td>\n",
       "    </tr>\n",
       "  </tbody>\n",
       "</table>\n",
       "</div>"
      ],
      "text/plain": [
       "col_0      0      1\n",
       "row_0              \n",
       "0      37442  12698\n",
       "1      10990  39150"
      ]
     },
     "execution_count": 143,
     "metadata": {},
     "output_type": "execute_result"
    }
   ],
   "source": [
    "pd.crosstab(y,mulpredict)"
   ]
  },
  {
   "cell_type": "code",
   "execution_count": 144,
   "id": "d0f3b437",
   "metadata": {},
   "outputs": [
    {
     "name": "stdout",
     "output_type": "stream",
     "text": [
      "              precision    recall  f1-score   support\n",
      "\n",
      "           0       0.77      0.75      0.76     50140\n",
      "           1       0.76      0.78      0.77     50140\n",
      "\n",
      "    accuracy                           0.76    100280\n",
      "   macro avg       0.76      0.76      0.76    100280\n",
      "weighted avg       0.76      0.76      0.76    100280\n",
      "\n"
     ]
    }
   ],
   "source": [
    "print(classification_report(y,mulpredict))"
   ]
  },
  {
   "cell_type": "code",
   "execution_count": 145,
   "id": "92f8024d",
   "metadata": {},
   "outputs": [
    {
     "data": {
      "text/plain": [
       "<sklearn.metrics._plot.roc_curve.RocCurveDisplay at 0x211afd16c10>"
      ]
     },
     "execution_count": 145,
     "metadata": {},
     "output_type": "execute_result"
    },
    {
     "data": {
      "image/png": "[encoded data removed]",
      "text/plain": [
       "<Figure size 640x480 with 1 Axes>"
      ]
     },
     "metadata": {},
     "output_type": "display_data"
    }
   ],
   "source": [
    "RocCurveDisplay.from_predictions(y,mulpredict)"
   ]
  },
  {
   "cell_type": "code",
   "execution_count": 146,
   "id": "99c20442",
   "metadata": {},
   "outputs": [
    {
     "data": {
      "text/plain": [
       "array([0.74162345, 0.76889709, 0.76306342, 0.76879737, 0.77109095])"
      ]
     },
     "execution_count": 146,
     "metadata": {},
     "output_type": "execute_result"
    }
   ],
   "source": [
    "cross_val_score(mul,X,y)"
   ]
  },
  {
   "cell_type": "code",
   "execution_count": 202,
   "id": "60fb663e",
   "metadata": {},
   "outputs": [
    {
     "data": {
      "text/plain": [
       "0.762694456"
      ]
     },
     "execution_count": 202,
     "metadata": {},
     "output_type": "execute_result"
    }
   ],
   "source": [
    "np.mean([0.74162345, 0.76889709, 0.76306342, 0.76879737, 0.77109095])"
   ]
  },
  {
   "cell_type": "code",
   "execution_count": 148,
   "id": "26489a34",
   "metadata": {},
   "outputs": [],
   "source": [
    "mulpredict=mulmodel.predict(testhr_df)"
   ]
  },
  {
   "cell_type": "code",
   "execution_count": 149,
   "id": "ca846d06",
   "metadata": {},
   "outputs": [],
   "source": [
    "pd.DataFrame(mulpredict).to_csv('mul.csv')"
   ]
  },
  {
   "cell_type": "markdown",
   "id": "0f9e8237",
   "metadata": {},
   "source": [
    "## Gaussian"
   ]
  },
  {
   "cell_type": "code",
   "execution_count": 150,
   "id": "be806bc6",
   "metadata": {},
   "outputs": [],
   "source": [
    "from sklearn.naive_bayes import GaussianNB"
   ]
  },
  {
   "cell_type": "code",
   "execution_count": 151,
   "id": "6c8fc3fd",
   "metadata": {},
   "outputs": [],
   "source": [
    "nbg=GaussianNB()"
   ]
  },
  {
   "cell_type": "code",
   "execution_count": 152,
   "id": "dcfd8461",
   "metadata": {},
   "outputs": [],
   "source": [
    "nbgmodel=nbg.fit(X,y)"
   ]
  },
  {
   "cell_type": "code",
   "execution_count": 153,
   "id": "16e83190",
   "metadata": {},
   "outputs": [
    {
     "data": {
      "text/plain": [
       "0.6564718787395293"
      ]
     },
     "execution_count": 153,
     "metadata": {},
     "output_type": "execute_result"
    }
   ],
   "source": [
    "nbgmodel.score(X,y)"
   ]
  },
  {
   "cell_type": "code",
   "execution_count": 154,
   "id": "61bb4fb9",
   "metadata": {},
   "outputs": [],
   "source": [
    "nbgpredict=nbgmodel.predict(X)"
   ]
  },
  {
   "cell_type": "code",
   "execution_count": 155,
   "id": "6a8b17b6",
   "metadata": {},
   "outputs": [
    {
     "data": {
      "text/html": [
       "<div>\n",
       "<style scoped>\n",
       "    .dataframe tbody tr th:only-of-type {\n",
       "        vertical-align: middle;\n",
       "    }\n",
       "\n",
       "    .dataframe tbody tr th {\n",
       "        vertical-align: top;\n",
       "    }\n",
       "\n",
       "    .dataframe thead th {\n",
       "        text-align: right;\n",
       "    }\n",
       "</style>\n",
       "<table border=\"1\" class=\"dataframe\">\n",
       "  <thead>\n",
       "    <tr style=\"text-align: right;\">\n",
       "      <th>col_0</th>\n",
       "      <th>0</th>\n",
       "      <th>1</th>\n",
       "    </tr>\n",
       "    <tr>\n",
       "      <th>row_0</th>\n",
       "      <th></th>\n",
       "      <th></th>\n",
       "    </tr>\n",
       "  </thead>\n",
       "  <tbody>\n",
       "    <tr>\n",
       "      <th>0</th>\n",
       "      <td>18071</td>\n",
       "      <td>32069</td>\n",
       "    </tr>\n",
       "    <tr>\n",
       "      <th>1</th>\n",
       "      <td>2380</td>\n",
       "      <td>47760</td>\n",
       "    </tr>\n",
       "  </tbody>\n",
       "</table>\n",
       "</div>"
      ],
      "text/plain": [
       "col_0      0      1\n",
       "row_0              \n",
       "0      18071  32069\n",
       "1       2380  47760"
      ]
     },
     "execution_count": 155,
     "metadata": {},
     "output_type": "execute_result"
    }
   ],
   "source": [
    "pd.crosstab(y,nbgpredict)"
   ]
  },
  {
   "cell_type": "code",
   "execution_count": 156,
   "id": "e974c4e2",
   "metadata": {},
   "outputs": [
    {
     "name": "stdout",
     "output_type": "stream",
     "text": [
      "              precision    recall  f1-score   support\n",
      "\n",
      "           0       0.88      0.36      0.51     50140\n",
      "           1       0.60      0.95      0.73     50140\n",
      "\n",
      "    accuracy                           0.66    100280\n",
      "   macro avg       0.74      0.66      0.62    100280\n",
      "weighted avg       0.74      0.66      0.62    100280\n",
      "\n"
     ]
    }
   ],
   "source": [
    "print(classification_report(y,nbgpredict))"
   ]
  },
  {
   "cell_type": "code",
   "execution_count": 157,
   "id": "e1a53b87",
   "metadata": {},
   "outputs": [
    {
     "data": {
      "text/plain": [
       "<sklearn.metrics._plot.roc_curve.RocCurveDisplay at 0x211afe7d0d0>"
      ]
     },
     "execution_count": 157,
     "metadata": {},
     "output_type": "execute_result"
    },
    {
     "data": {
      "image/png": "[encoded data removed]",
      "text/plain": [
       "<Figure size 640x480 with 1 Axes>"
      ]
     },
     "metadata": {},
     "output_type": "display_data"
    }
   ],
   "source": [
    "RocCurveDisplay.from_predictions(y,nbgpredict)"
   ]
  },
  {
   "cell_type": "code",
   "execution_count": 158,
   "id": "d23dc13e",
   "metadata": {},
   "outputs": [
    {
     "data": {
      "text/plain": [
       "array([0.61727164, 0.66234543, 0.66523734, 0.66134822, 0.65900479])"
      ]
     },
     "execution_count": 158,
     "metadata": {},
     "output_type": "execute_result"
    }
   ],
   "source": [
    "cross_val_score(nbg,X,y)"
   ]
  },
  {
   "cell_type": "code",
   "execution_count": 203,
   "id": "4e13c8ae",
   "metadata": {},
   "outputs": [
    {
     "data": {
      "text/plain": [
       "0.6530414840000001"
      ]
     },
     "execution_count": 203,
     "metadata": {},
     "output_type": "execute_result"
    }
   ],
   "source": [
    "np.mean([0.61727164, 0.66234543, 0.66523734, 0.66134822, 0.65900479])"
   ]
  },
  {
   "cell_type": "code",
   "execution_count": 160,
   "id": "31c0a737",
   "metadata": {},
   "outputs": [],
   "source": [
    "nbgpredict=nbgmodel.predict(testhr_df)"
   ]
  },
  {
   "cell_type": "code",
   "execution_count": 161,
   "id": "605fbe96",
   "metadata": {},
   "outputs": [],
   "source": [
    "pd.DataFrame(nbgpredict).to_csv('ngb.csv')"
   ]
  },
  {
   "cell_type": "markdown",
   "id": "c3f1c9b8",
   "metadata": {},
   "source": [
    "## Bernoulli's"
   ]
  },
  {
   "cell_type": "code",
   "execution_count": 162,
   "id": "10dc71c3",
   "metadata": {},
   "outputs": [],
   "source": [
    "from sklearn.naive_bayes import BernoulliNB"
   ]
  },
  {
   "cell_type": "code",
   "execution_count": 163,
   "id": "e266d5f8",
   "metadata": {},
   "outputs": [],
   "source": [
    "bb=BernoulliNB()"
   ]
  },
  {
   "cell_type": "code",
   "execution_count": 164,
   "id": "7d8d93c4",
   "metadata": {},
   "outputs": [],
   "source": [
    "bbmodel=bb.fit(X,y)"
   ]
  },
  {
   "cell_type": "code",
   "execution_count": 165,
   "id": "92422d51",
   "metadata": {},
   "outputs": [
    {
     "data": {
      "text/plain": [
       "0.7449641005185481"
      ]
     },
     "execution_count": 165,
     "metadata": {},
     "output_type": "execute_result"
    }
   ],
   "source": [
    "bbmodel.score(X,y)"
   ]
  },
  {
   "cell_type": "code",
   "execution_count": 166,
   "id": "46200f97",
   "metadata": {},
   "outputs": [],
   "source": [
    "bbpredict=bbmodel.predict(X)"
   ]
  },
  {
   "cell_type": "code",
   "execution_count": 167,
   "id": "338faba5",
   "metadata": {},
   "outputs": [
    {
     "data": {
      "text/html": [
       "<div>\n",
       "<style scoped>\n",
       "    .dataframe tbody tr th:only-of-type {\n",
       "        vertical-align: middle;\n",
       "    }\n",
       "\n",
       "    .dataframe tbody tr th {\n",
       "        vertical-align: top;\n",
       "    }\n",
       "\n",
       "    .dataframe thead th {\n",
       "        text-align: right;\n",
       "    }\n",
       "</style>\n",
       "<table border=\"1\" class=\"dataframe\">\n",
       "  <thead>\n",
       "    <tr style=\"text-align: right;\">\n",
       "      <th>col_0</th>\n",
       "      <th>0</th>\n",
       "      <th>1</th>\n",
       "    </tr>\n",
       "    <tr>\n",
       "      <th>row_0</th>\n",
       "      <th></th>\n",
       "      <th></th>\n",
       "    </tr>\n",
       "  </thead>\n",
       "  <tbody>\n",
       "    <tr>\n",
       "      <th>0</th>\n",
       "      <td>36747</td>\n",
       "      <td>13393</td>\n",
       "    </tr>\n",
       "    <tr>\n",
       "      <th>1</th>\n",
       "      <td>12182</td>\n",
       "      <td>37958</td>\n",
       "    </tr>\n",
       "  </tbody>\n",
       "</table>\n",
       "</div>"
      ],
      "text/plain": [
       "col_0      0      1\n",
       "row_0              \n",
       "0      36747  13393\n",
       "1      12182  37958"
      ]
     },
     "execution_count": 167,
     "metadata": {},
     "output_type": "execute_result"
    }
   ],
   "source": [
    "pd.crosstab(y,bbpredict)"
   ]
  },
  {
   "cell_type": "code",
   "execution_count": 168,
   "id": "623af44b",
   "metadata": {},
   "outputs": [
    {
     "name": "stdout",
     "output_type": "stream",
     "text": [
      "              precision    recall  f1-score   support\n",
      "\n",
      "           0       0.75      0.73      0.74     50140\n",
      "           1       0.74      0.76      0.75     50140\n",
      "\n",
      "    accuracy                           0.74    100280\n",
      "   macro avg       0.75      0.74      0.74    100280\n",
      "weighted avg       0.75      0.74      0.74    100280\n",
      "\n"
     ]
    }
   ],
   "source": [
    "print(classification_report(y,bbpredict))"
   ]
  },
  {
   "cell_type": "code",
   "execution_count": 169,
   "id": "7cfc9b16",
   "metadata": {},
   "outputs": [
    {
     "data": {
      "text/plain": [
       "<sklearn.metrics._plot.roc_curve.RocCurveDisplay at 0x211b6577490>"
      ]
     },
     "execution_count": 169,
     "metadata": {},
     "output_type": "execute_result"
    },
    {
     "data": {
      "image/png": "[encoded data removed]",
      "text/plain": [
       "<Figure size 640x480 with 1 Axes>"
      ]
     },
     "metadata": {},
     "output_type": "display_data"
    }
   ],
   "source": [
    "RocCurveDisplay.from_predictions(y,bbpredict)"
   ]
  },
  {
   "cell_type": "code",
   "execution_count": 170,
   "id": "590fd24e",
   "metadata": {},
   "outputs": [
    {
     "data": {
      "text/plain": [
       "array([0.73050459, 0.7476067 , 0.73987834, 0.74795572, 0.75373953])"
      ]
     },
     "execution_count": 170,
     "metadata": {},
     "output_type": "execute_result"
    }
   ],
   "source": [
    "cross_val_score(bb,X,y)"
   ]
  },
  {
   "cell_type": "code",
   "execution_count": 204,
   "id": "d2eb1ee5",
   "metadata": {},
   "outputs": [
    {
     "data": {
      "text/plain": [
       "0.743936976"
      ]
     },
     "execution_count": 204,
     "metadata": {},
     "output_type": "execute_result"
    }
   ],
   "source": [
    "np.mean([0.73050459, 0.7476067 , 0.73987834, 0.74795572, 0.75373953])"
   ]
  },
  {
   "cell_type": "code",
   "execution_count": 172,
   "id": "bf3a7d04",
   "metadata": {},
   "outputs": [],
   "source": [
    "bbpredict=bbmodel.predict(testhr_df)"
   ]
  },
  {
   "cell_type": "code",
   "execution_count": 173,
   "id": "145dc434",
   "metadata": {},
   "outputs": [],
   "source": [
    "pd.DataFrame(bbpredict).to_csv('bb.csv')"
   ]
  },
  {
   "cell_type": "markdown",
   "id": "65029499",
   "metadata": {},
   "source": [
    "# SVC"
   ]
  },
  {
   "cell_type": "code",
   "execution_count": 174,
   "id": "bc6c6a4b",
   "metadata": {},
   "outputs": [],
   "source": [
    "from sklearn.svm import SVC"
   ]
  },
  {
   "cell_type": "code",
   "execution_count": 175,
   "id": "e8eeb520",
   "metadata": {},
   "outputs": [],
   "source": [
    "svc=SVC(C=3)"
   ]
  },
  {
   "cell_type": "code",
   "execution_count": 176,
   "id": "838106ab",
   "metadata": {},
   "outputs": [],
   "source": [
    "svcmodel=svc.fit(X,y)"
   ]
  },
  {
   "cell_type": "code",
   "execution_count": 177,
   "id": "e5727ed0",
   "metadata": {},
   "outputs": [
    {
     "data": {
      "text/plain": [
       "0.9376346230554448"
      ]
     },
     "execution_count": 177,
     "metadata": {},
     "output_type": "execute_result"
    }
   ],
   "source": [
    "svcmodel.score(X,y)"
   ]
  },
  {
   "cell_type": "code",
   "execution_count": 180,
   "id": "f3205901",
   "metadata": {},
   "outputs": [],
   "source": [
    "svcpredict=svcmodel.predict(X)"
   ]
  },
  {
   "cell_type": "code",
   "execution_count": 181,
   "id": "8648c3de",
   "metadata": {},
   "outputs": [
    {
     "data": {
      "text/html": [
       "<div>\n",
       "<style scoped>\n",
       "    .dataframe tbody tr th:only-of-type {\n",
       "        vertical-align: middle;\n",
       "    }\n",
       "\n",
       "    .dataframe tbody tr th {\n",
       "        vertical-align: top;\n",
       "    }\n",
       "\n",
       "    .dataframe thead th {\n",
       "        text-align: right;\n",
       "    }\n",
       "</style>\n",
       "<table border=\"1\" class=\"dataframe\">\n",
       "  <thead>\n",
       "    <tr style=\"text-align: right;\">\n",
       "      <th>col_0</th>\n",
       "      <th>0</th>\n",
       "      <th>1</th>\n",
       "    </tr>\n",
       "    <tr>\n",
       "      <th>row_0</th>\n",
       "      <th></th>\n",
       "      <th></th>\n",
       "    </tr>\n",
       "  </thead>\n",
       "  <tbody>\n",
       "    <tr>\n",
       "      <th>0</th>\n",
       "      <td>47271</td>\n",
       "      <td>2869</td>\n",
       "    </tr>\n",
       "    <tr>\n",
       "      <th>1</th>\n",
       "      <td>3385</td>\n",
       "      <td>46755</td>\n",
       "    </tr>\n",
       "  </tbody>\n",
       "</table>\n",
       "</div>"
      ],
      "text/plain": [
       "col_0      0      1\n",
       "row_0              \n",
       "0      47271   2869\n",
       "1       3385  46755"
      ]
     },
     "execution_count": 181,
     "metadata": {},
     "output_type": "execute_result"
    }
   ],
   "source": [
    "pd.crosstab(y,svcpredict)"
   ]
  },
  {
   "cell_type": "code",
   "execution_count": 182,
   "id": "2de9e2c1",
   "metadata": {},
   "outputs": [
    {
     "name": "stdout",
     "output_type": "stream",
     "text": [
      "              precision    recall  f1-score   support\n",
      "\n",
      "           0       0.93      0.94      0.94     50140\n",
      "           1       0.94      0.93      0.94     50140\n",
      "\n",
      "    accuracy                           0.94    100280\n",
      "   macro avg       0.94      0.94      0.94    100280\n",
      "weighted avg       0.94      0.94      0.94    100280\n",
      "\n"
     ]
    }
   ],
   "source": [
    "print(classification_report(y,svcpredict))"
   ]
  },
  {
   "cell_type": "code",
   "execution_count": 183,
   "id": "01c07351",
   "metadata": {},
   "outputs": [
    {
     "data": {
      "text/plain": [
       "<sklearn.metrics._plot.roc_curve.RocCurveDisplay at 0x211bd8fcb10>"
      ]
     },
     "execution_count": 183,
     "metadata": {},
     "output_type": "execute_result"
    },
    {
     "data": {
      "image/png": "[encoded data removed]",
      "text/plain": [
       "<Figure size 640x480 with 1 Axes>"
      ]
     },
     "metadata": {},
     "output_type": "display_data"
    }
   ],
   "source": [
    "RocCurveDisplay.from_predictions(y,svcpredict)"
   ]
  },
  {
   "cell_type": "code",
   "execution_count": 184,
   "id": "6ba14005",
   "metadata": {},
   "outputs": [
    {
     "data": {
      "text/plain": [
       "array([0.82957718, 0.95048863, 0.95018947, 0.95348026, 0.94959114])"
      ]
     },
     "execution_count": 184,
     "metadata": {},
     "output_type": "execute_result"
    }
   ],
   "source": [
    "cross_val_score(svc,X,y)"
   ]
  },
  {
   "cell_type": "code",
   "execution_count": 205,
   "id": "56613fc2",
   "metadata": {},
   "outputs": [
    {
     "data": {
      "text/plain": [
       "0.9266653359999999"
      ]
     },
     "execution_count": 205,
     "metadata": {},
     "output_type": "execute_result"
    }
   ],
   "source": [
    "np.mean([0.82957718, 0.95048863, 0.95018947, 0.95348026, 0.94959114])"
   ]
  },
  {
   "cell_type": "code",
   "execution_count": 185,
   "id": "45f629e6",
   "metadata": {},
   "outputs": [],
   "source": [
    "svcpredict=svcmodel.predict(testhr_df)"
   ]
  },
  {
   "cell_type": "code",
   "execution_count": 186,
   "id": "147e7ef6",
   "metadata": {},
   "outputs": [],
   "source": [
    "pd.DataFrame(svcpredict).to_csv('svc.csv')"
   ]
  },
  {
   "cell_type": "markdown",
   "id": "36e0ef59",
   "metadata": {},
   "source": [
    "# Validating the Score in analytics vidya "
   ]
  },
  {
   "attachments": {
    "image-2.png": {
     "image/png": "[encoded data removed]"
    },
    "image.png": {
     "image/png": "[encoded data removed]"
    }
   },
   "cell_type": "markdown",
   "id": "293895b7",
   "metadata": {},
   "source": [
    "![image.png](attachment:image.png)\n",
    "![image-2.png](attachment:image-2.png)"
   ]
  },
  {
   "cell_type": "markdown",
   "id": "137e7202",
   "metadata": {},
   "source": [
    "# Summary"
   ]
  },
  {
   "cell_type": "markdown",
   "id": "294350ea",
   "metadata": {},
   "source": [
    "The HR dataset was analyzed using various machine learning models, and the results are summarized below. The table shows the performance of each model on four different metrics: ML model score, accuracy score, ROC/AUC curve value and cross validation score.\n",
    "\n",
    "| Model | ML model Score | Accuracy Score|ROC/AUC curve values| Cross Valdiation Score|\n",
    "|:------|:--------------:|:-------------:|:------:|:------:|\n",
    "|Logistic Regression|0.9005684084563222|0.391025641025641|0.90|0.895243318|\n",
    "|Decision tree|0.8666932588751496|0.382229673093043|0.87|0.8649481440000001|\n",
    "|Random Forest|0.7651575588352613|0.309124767225326|0.77|0.764369766|\n",
    "|***Gradient boosting machines***|***0.9535500598324691***|***0.467438494934877***|***0.95***|***0.943548064***|\n",
    "|Multinomial Naive Bayes|0.7637814120462705|0.304067321178121|0.76|0.762694456|\n",
    "|Gaussian Naive Bayes|0.6564718787395293|0.304067321178121|0.65|0.6530414840000001|\n",
    "|Bernoulli Naive Bayes|0.7449641005185481|0.299216851201728|0.74|0.743936976|\n",
    "|Support Vector Classifier|0.9376346230554448|0.438823529411765|0.94|0.9266653359999999|\n",
    "\n",
    "The best model for the HR dataset is the gradient boosting machine, which has the highest scores on all the metrics, especially the ML model score and the ROC/AUC curve value, which measure how well the model can fit the data and how well it can separate the classes.\n",
    "\n",
    "The gradient boosting machine outperforms the other models by a large margin, as shown by the comparison with the logistic regression model, which has a similar ROC/AUC curve value of 0.90, but a much lower ML model score of 0.90 and a lower accuracy score of 0.39, which indicate that it is not as accurate or reliable as the gradient boosting machine.\n",
    "\n",
    "The ROC/AUC curve value is a metric that evaluates how well a model can distinguish between different classes of data, such as employees who left or stayed in the company in the HR dataset. ROC stands for receiver operating characteristic, and it plots the true positive rate (TPR) against the false positive rate (FPR) for different thresholds of classification. AUC stands for area under the curve, and it measures the area under the ROC curve, which ranges from 0 to 1. A higher AUC value means that the model can better separate the classes, while a lower AUC value means that the model is more likely to confuse the classes.\n",
    "\n",
    "Therefore, we can conclude that the gradient boosting machine is the best model for the HR dataset, as it has the highest ML model score, accuracy score and ROC/AUC curve value among all the models, and it can predict the outcomes of the data with high confidence and precision."
   ]
  },
  {
   "cell_type": "code",
   "execution_count": null,
   "id": "04eb18d9",
   "metadata": {},
   "outputs": [],
   "source": []
  }
 ],
 "metadata": {
  "kernelspec": {
   "display_name": "Python 3 (ipykernel)",
   "language": "python",
   "name": "python3"
  },
  "language_info": {
   "codemirror_mode": {
    "name": "ipython",
    "version": 3
   },
   "file_extension": ".py",
   "mimetype": "text/x-python",
   "name": "python",
   "nbconvert_exporter": "python",
   "pygments_lexer": "ipython3",
   "version": "3.11.5"
  }
 },
 "nbformat": 4,
 "nbformat_minor": 5
}
